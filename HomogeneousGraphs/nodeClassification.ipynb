{
 "cells": [
  {
   "cell_type": "code",
   "execution_count": 1,
   "metadata": {},
   "outputs": [],
   "source": [
    "import os\n",
    "\n",
    "os.environ[\"DGLBACKEND\"] = \"pytorch\"\n",
    "import dgl\n",
    "import dgl.data\n",
    "import torch\n",
    "import torch.nn as nn\n",
    "import torch.nn.functional as F"
   ]
  },
  {
   "cell_type": "code",
   "execution_count": 2,
   "metadata": {},
   "outputs": [
    {
     "name": "stdout",
     "output_type": "stream",
     "text": [
      "  NumNodes: 2708\n",
      "  NumEdges: 10556\n",
      "  NumFeats: 1433\n",
      "  NumClasses: 7\n",
      "  NumTrainingSamples: 140\n",
      "  NumValidationSamples: 500\n",
      "  NumTestSamples: 1000\n",
      "Done loading data from cached files.\n",
      "Number of categories: 7\n"
     ]
    }
   ],
   "source": [
    "dataset = dgl.data.CoraGraphDataset()\n",
    "print(f\"Number of categories: {dataset.num_classes}\")"
   ]
  },
  {
   "cell_type": "code",
   "execution_count": 3,
   "metadata": {},
   "outputs": [],
   "source": [
    "g = dataset[0]"
   ]
  },
  {
   "cell_type": "code",
   "execution_count": 4,
   "metadata": {},
   "outputs": [
    {
     "name": "stdout",
     "output_type": "stream",
     "text": [
      "Node features\n",
      "{'feat': tensor([[0., 0., 0.,  ..., 0., 0., 0.],\n",
      "        [0., 0., 0.,  ..., 0., 0., 0.],\n",
      "        [0., 0., 0.,  ..., 0., 0., 0.],\n",
      "        ...,\n",
      "        [0., 0., 0.,  ..., 0., 0., 0.],\n",
      "        [0., 0., 0.,  ..., 0., 0., 0.],\n",
      "        [0., 0., 0.,  ..., 0., 0., 0.]]), 'label': tensor([3, 4, 4,  ..., 3, 3, 3]), 'test_mask': tensor([False, False, False,  ...,  True,  True,  True]), 'val_mask': tensor([False, False, False,  ..., False, False, False]), 'train_mask': tensor([ True,  True,  True,  ..., False, False, False])}\n",
      "Edge features\n",
      "{}\n"
     ]
    }
   ],
   "source": [
    "print(\"Node features\")\n",
    "print(g.ndata)\n",
    "print(\"Edge features\")\n",
    "print(g.edata)"
   ]
  },
  {
   "cell_type": "code",
   "execution_count": 5,
   "metadata": {},
   "outputs": [],
   "source": [
    "from dgl.nn import GraphConv\n",
    "\n",
    "\n",
    "class GCN(nn.Module):\n",
    "    def __init__(self, in_feats, h_feats, num_classes):\n",
    "        super(GCN, self).__init__()\n",
    "        self.conv1 = GraphConv(in_feats, h_feats)\n",
    "        self.conv2 = GraphConv(h_feats, num_classes)\n",
    "\n",
    "    def forward(self, g, in_feat):\n",
    "        h = self.conv1(g, in_feat)\n",
    "        h = F.relu(h)\n",
    "        h = self.conv2(g, h)\n",
    "        return h\n",
    "\n",
    "\n",
    "# Create the model with given dimensions\n",
    "model = GCN(g.ndata[\"feat\"].shape[1], 16, dataset.num_classes)"
   ]
  },
  {
   "cell_type": "code",
   "execution_count": 6,
   "metadata": {},
   "outputs": [
    {
     "name": "stdout",
     "output_type": "stream",
     "text": [
      "In epoch 0, loss: 1.946, val acc: 0.132 (best 0.132), test acc: 0.117 (best 0.117)\n",
      "In epoch 5, loss: 1.897, val acc: 0.524 (best 0.524), test acc: 0.530 (best 0.530)\n",
      "In epoch 10, loss: 1.815, val acc: 0.638 (best 0.646), test acc: 0.649 (best 0.657)\n",
      "In epoch 15, loss: 1.707, val acc: 0.666 (best 0.666), test acc: 0.685 (best 0.685)\n",
      "In epoch 20, loss: 1.574, val acc: 0.696 (best 0.696), test acc: 0.719 (best 0.719)\n",
      "In epoch 25, loss: 1.419, val acc: 0.714 (best 0.714), test acc: 0.731 (best 0.731)\n",
      "In epoch 30, loss: 1.247, val acc: 0.738 (best 0.738), test acc: 0.744 (best 0.741)\n",
      "In epoch 35, loss: 1.069, val acc: 0.750 (best 0.750), test acc: 0.759 (best 0.756)\n",
      "In epoch 40, loss: 0.895, val acc: 0.756 (best 0.756), test acc: 0.762 (best 0.762)\n",
      "In epoch 45, loss: 0.733, val acc: 0.762 (best 0.762), test acc: 0.770 (best 0.768)\n",
      "In epoch 50, loss: 0.592, val acc: 0.766 (best 0.766), test acc: 0.774 (best 0.774)\n",
      "In epoch 55, loss: 0.474, val acc: 0.768 (best 0.768), test acc: 0.781 (best 0.775)\n",
      "In epoch 60, loss: 0.379, val acc: 0.776 (best 0.776), test acc: 0.780 (best 0.781)\n",
      "In epoch 65, loss: 0.303, val acc: 0.770 (best 0.776), test acc: 0.786 (best 0.781)\n",
      "In epoch 70, loss: 0.244, val acc: 0.770 (best 0.776), test acc: 0.790 (best 0.781)\n",
      "In epoch 75, loss: 0.198, val acc: 0.770 (best 0.776), test acc: 0.788 (best 0.781)\n",
      "In epoch 80, loss: 0.163, val acc: 0.778 (best 0.778), test acc: 0.786 (best 0.786)\n",
      "In epoch 85, loss: 0.135, val acc: 0.778 (best 0.778), test acc: 0.786 (best 0.786)\n",
      "In epoch 90, loss: 0.113, val acc: 0.780 (best 0.780), test acc: 0.784 (best 0.784)\n",
      "In epoch 95, loss: 0.096, val acc: 0.774 (best 0.780), test acc: 0.784 (best 0.784)\n"
     ]
    }
   ],
   "source": [
    "def train(g, model):\n",
    "    optimizer = torch.optim.Adam(model.parameters(), lr=0.01)\n",
    "    best_val_acc = 0\n",
    "    best_test_acc = 0\n",
    "\n",
    "    features = g.ndata[\"feat\"]\n",
    "    labels = g.ndata[\"label\"]\n",
    "    train_mask = g.ndata[\"train_mask\"]\n",
    "    val_mask = g.ndata[\"val_mask\"]\n",
    "    test_mask = g.ndata[\"test_mask\"]\n",
    "    for e in range(100):\n",
    "        # Forward\n",
    "        logits = model(g, features)\n",
    "\n",
    "        # Compute prediction\n",
    "        pred = logits.argmax(1)\n",
    "\n",
    "        # Compute loss\n",
    "        # Note that you should only compute the losses of the nodes in the training set.\n",
    "        loss = F.cross_entropy(logits[train_mask], labels[train_mask])\n",
    "\n",
    "        # Compute accuracy on training/validation/test\n",
    "        train_acc = (pred[train_mask] == labels[train_mask]).float().mean()\n",
    "        val_acc = (pred[val_mask] == labels[val_mask]).float().mean()\n",
    "        test_acc = (pred[test_mask] == labels[test_mask]).float().mean()\n",
    "\n",
    "        # Save the best validation accuracy and the corresponding test accuracy.\n",
    "        if best_val_acc < val_acc:\n",
    "            best_val_acc = val_acc\n",
    "            best_test_acc = test_acc\n",
    "\n",
    "        # Backward\n",
    "        optimizer.zero_grad()\n",
    "        loss.backward()\n",
    "        optimizer.step()\n",
    "\n",
    "        if e % 5 == 0:\n",
    "            print(\n",
    "                f\"In epoch {e}, loss: {loss:.3f}, val acc: {val_acc:.3f} (best {best_val_acc:.3f}), test acc: {test_acc:.3f} (best {best_test_acc:.3f})\"\n",
    "            )\n",
    "\n",
    "\n",
    "model = GCN(g.ndata[\"feat\"].shape[1], 16, dataset.num_classes)\n",
    "train(g, model)"
   ]
  },
  {
   "cell_type": "code",
   "execution_count": 8,
   "metadata": {},
   "outputs": [
    {
     "name": "stdout",
     "output_type": "stream",
     "text": [
      "In epoch 0, loss: 1.946, val acc: 0.160 (best 0.160), test acc: 0.174 (best 0.174)\n",
      "In epoch 5, loss: 1.890, val acc: 0.544 (best 0.544), test acc: 0.594 (best 0.594)\n",
      "In epoch 10, loss: 1.803, val acc: 0.640 (best 0.640), test acc: 0.670 (best 0.670)\n",
      "In epoch 15, loss: 1.692, val acc: 0.698 (best 0.698), test acc: 0.714 (best 0.714)\n",
      "In epoch 20, loss: 1.558, val acc: 0.716 (best 0.716), test acc: 0.729 (best 0.729)\n",
      "In epoch 25, loss: 1.402, val acc: 0.742 (best 0.742), test acc: 0.736 (best 0.736)\n",
      "In epoch 30, loss: 1.231, val acc: 0.748 (best 0.748), test acc: 0.749 (best 0.746)\n",
      "In epoch 35, loss: 1.054, val acc: 0.742 (best 0.748), test acc: 0.757 (best 0.746)\n",
      "In epoch 40, loss: 0.881, val acc: 0.760 (best 0.760), test acc: 0.760 (best 0.755)\n",
      "In epoch 45, loss: 0.722, val acc: 0.766 (best 0.766), test acc: 0.763 (best 0.761)\n",
      "In epoch 50, loss: 0.584, val acc: 0.776 (best 0.776), test acc: 0.772 (best 0.771)\n",
      "In epoch 55, loss: 0.468, val acc: 0.776 (best 0.778), test acc: 0.783 (best 0.774)\n",
      "In epoch 60, loss: 0.376, val acc: 0.774 (best 0.778), test acc: 0.784 (best 0.774)\n",
      "In epoch 65, loss: 0.302, val acc: 0.772 (best 0.778), test acc: 0.780 (best 0.774)\n",
      "In epoch 70, loss: 0.245, val acc: 0.774 (best 0.778), test acc: 0.778 (best 0.774)\n",
      "In epoch 75, loss: 0.201, val acc: 0.776 (best 0.778), test acc: 0.772 (best 0.774)\n",
      "In epoch 80, loss: 0.166, val acc: 0.778 (best 0.778), test acc: 0.767 (best 0.774)\n",
      "In epoch 85, loss: 0.139, val acc: 0.778 (best 0.778), test acc: 0.769 (best 0.774)\n",
      "In epoch 90, loss: 0.118, val acc: 0.778 (best 0.778), test acc: 0.762 (best 0.774)\n",
      "In epoch 95, loss: 0.101, val acc: 0.776 (best 0.778), test acc: 0.763 (best 0.774)\n"
     ]
    }
   ],
   "source": [
    "g = g.to('cpu')\n",
    "model = GCN(g.ndata['feat'].shape[1], 16, dataset.num_classes).to('cpu')\n",
    "train(g, model)"
   ]
  }
 ],
 "metadata": {
  "kernelspec": {
   "display_name": "dglemv",
   "language": "python",
   "name": "python3"
  },
  "language_info": {
   "codemirror_mode": {
    "name": "ipython",
    "version": 3
   },
   "file_extension": ".py",
   "mimetype": "text/x-python",
   "name": "python",
   "nbconvert_exporter": "python",
   "pygments_lexer": "ipython3",
   "version": "3.11.5"
  },
  "orig_nbformat": 4
 },
 "nbformat": 4,
 "nbformat_minor": 2
}

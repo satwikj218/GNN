{
 "cells": [
  {
   "cell_type": "markdown",
   "metadata": {},
   "source": [
    "### Graphs, Nodes, and edges\n"
   ]
  },
  {
   "cell_type": "code",
   "execution_count": null,
   "metadata": {},
   "outputs": [],
   "source": [
    "import dgl\n",
    "import torch as th\n",
    "# edges 0->1, 0->2, 0->3, 1->3\n",
    "u, v = th.tensor([0, 0, 0, 1]), th.tensor([1, 2, 3, 3])\n",
    "g = dgl.graph((u, v))\n",
    "print(g) # number of nodes are inferred from the max node IDs in the given edges\n",
    "# Node IDs\n",
    "print(g.nodes())\n",
    "# Edge end nodes\n",
    "print(g.edges())\n",
    "# Edge end nodes and edge IDs\n",
    "print(g.edges(form='all'))\n",
    "# If the node with the largest ID is isolated (meaning no edges),\n",
    "# then one needs to explicitly set the number of nodes\n",
    "g = dgl.graph((u, v), num_nodes=8)"
   ]
  },
  {
   "cell_type": "code",
   "execution_count": 2,
   "metadata": {},
   "outputs": [
    {
     "data": {
      "text/plain": [
       "(tensor([0, 0, 0, 1, 1, 2, 3, 3]), tensor([1, 2, 3, 0, 3, 0, 0, 1]))"
      ]
     },
     "execution_count": 2,
     "metadata": {},
     "output_type": "execute_result"
    }
   ],
   "source": [
    "bg = dgl.to_bidirected(g)\n",
    "bg.edges()"
   ]
  },
  {
   "cell_type": "code",
   "execution_count": 3,
   "metadata": {},
   "outputs": [
    {
     "name": "stdout",
     "output_type": "stream",
     "text": [
      "torch.int64\n"
     ]
    },
    {
     "data": {
      "text/plain": [
       "torch.int32"
      ]
     },
     "execution_count": 3,
     "metadata": {},
     "output_type": "execute_result"
    }
   ],
   "source": [
    "edges = th.tensor([2, 5, 3]), th.tensor([3, 5, 0])  # edges 2->3, 5->5, 3->0\n",
    "g64 = dgl.graph(edges)  # DGL uses int64 by default\n",
    "print(g64.idtype)\n",
    "g32 = dgl.graph(edges, idtype=th.int32)  # create a int32 graph\n",
    "g32.idtype\n",
    "g64_2 = g32.long()  # convert to int64\n",
    "g64_2.idtype\n",
    "g32_2 = g64.int()  # convert to int32\n",
    "g32_2.idtype"
   ]
  },
  {
   "cell_type": "markdown",
   "metadata": {},
   "source": [
    "### Node and Edge Features"
   ]
  },
  {
   "cell_type": "code",
   "execution_count": 4,
   "metadata": {},
   "outputs": [
    {
     "name": "stdout",
     "output_type": "stream",
     "text": [
      "Graph(num_nodes=6, num_edges=4,\n",
      "      ndata_schemes={}\n",
      "      edata_schemes={})\n",
      "Graph(num_nodes=6, num_edges=4,\n",
      "      ndata_schemes={'x': Scheme(shape=(3,), dtype=torch.float32)}\n",
      "      edata_schemes={'x': Scheme(shape=(), dtype=torch.int32)})\n",
      "tensor([1., 1., 1.])\n",
      "tensor([1, 1], dtype=torch.int32)\n"
     ]
    }
   ],
   "source": [
    "import dgl\n",
    "import torch as th\n",
    "g = dgl.graph(([0, 0, 1, 5], [1, 2, 2, 0])) # 6 nodes, 4 edges\n",
    "print(g)\n",
    "g.ndata['x'] = th.ones(g.num_nodes(), 3)               # node feature of length 3\n",
    "g.edata['x'] = th.ones(g.num_edges(), dtype=th.int32)  # scalar integer feature\n",
    "print(g)\n",
    "# different names can have different shapes\n",
    "g.ndata['y'] = th.randn(g.num_nodes(), 5)\n",
    "print(g.ndata['x'][1])                  # get node 1's feature\n",
    "print(g.edata['x'][th.tensor([0, 3])])  # get features of edge 0 and 3"
   ]
  },
  {
   "cell_type": "code",
   "execution_count": 5,
   "metadata": {},
   "outputs": [
    {
     "data": {
      "text/plain": [
       "Graph(num_nodes=4, num_edges=4,\n",
       "      ndata_schemes={}\n",
       "      edata_schemes={'w': Scheme(shape=(), dtype=torch.float32)})"
      ]
     },
     "execution_count": 5,
     "metadata": {},
     "output_type": "execute_result"
    }
   ],
   "source": [
    "# edges 0->1, 0->2, 0->3, 1->3\n",
    "edges = th.tensor([0, 0, 0, 1]), th.tensor([1, 2, 3, 3])\n",
    "weights = th.tensor([0.1, 0.6, 0.9, 0.7])  # weight of each edge\n",
    "g = dgl.graph(edges)\n",
    "g.edata['w'] = weights  # give it a name 'w'\n",
    "g"
   ]
  },
  {
   "cell_type": "markdown",
   "metadata": {},
   "source": [
    "### Creating Graphs from External Sources"
   ]
  },
  {
   "cell_type": "code",
   "execution_count": 8,
   "metadata": {},
   "outputs": [
    {
     "name": "stdout",
     "output_type": "stream",
     "text": [
      "Graph(num_nodes=100, num_edges=500,\n",
      "      ndata_schemes={}\n",
      "      edata_schemes={})\n",
      "Graph(num_nodes=5, num_edges=8,\n",
      "      ndata_schemes={}\n",
      "      edata_schemes={})\n"
     ]
    }
   ],
   "source": [
    "import dgl\n",
    "import torch as th\n",
    "import scipy.sparse as sp\n",
    "spmat = sp.rand(100, 100, density=0.05) # 5% nonzero entries\n",
    "print(dgl.from_scipy(spmat))                   # from SciPy\n",
    "\n",
    "import networkx as nx\n",
    "nx_g = nx.path_graph(5) # a chain 0-1-2-3-4\n",
    "print(dgl.from_networkx(nx_g)) # from networkx"
   ]
  },
  {
   "cell_type": "code",
   "execution_count": 9,
   "metadata": {},
   "outputs": [
    {
     "data": {
      "text/plain": [
       "Graph(num_nodes=4, num_edges=4,\n",
       "      ndata_schemes={}\n",
       "      edata_schemes={})"
      ]
     },
     "execution_count": 9,
     "metadata": {},
     "output_type": "execute_result"
    }
   ],
   "source": [
    "nxg = nx.DiGraph([(2, 1), (1, 2), (2, 3), (0, 0)])\n",
    "dgl.from_networkx(nxg)"
   ]
  },
  {
   "cell_type": "markdown",
   "metadata": {},
   "source": [
    "### Heterogeneous Graphs"
   ]
  },
  {
   "cell_type": "code",
   "execution_count": 11,
   "metadata": {},
   "outputs": [
    {
     "name": "stdout",
     "output_type": "stream",
     "text": [
      "['disease', 'drug', 'gene']\n",
      "['interacts', 'interacts', 'treats']\n",
      "[('drug', 'interacts', 'drug'), ('drug', 'interacts', 'gene'), ('drug', 'treats', 'disease')]\n"
     ]
    }
   ],
   "source": [
    "import dgl\n",
    "import torch as th\n",
    "# Create a heterograph with 3 node types and 3 edges types.\n",
    "graph_data = {\n",
    "   ('drug', 'interacts', 'drug'): (th.tensor([0, 1]), th.tensor([1, 2])),\n",
    "   ('drug', 'interacts', 'gene'): (th.tensor([0, 1]), th.tensor([2, 3])),\n",
    "   ('drug', 'treats', 'disease'): (th.tensor([1]), th.tensor([2]))\n",
    "}\n",
    "g = dgl.heterograph(graph_data)\n",
    "print(g.ntypes)\n",
    "print(g.etypes)\n",
    "print(g.canonical_etypes)"
   ]
  },
  {
   "cell_type": "code",
   "execution_count": null,
   "metadata": {},
   "outputs": [],
   "source": [
    "# A homogeneous graph\n",
    "dgl.heterograph({('node_type', 'edge_type', 'node_type'): (u, v)})\n",
    "# A bipartite graph\n",
    "dgl.heterograph({('source_type', 'edge_type', 'destination_type'): (u, v)})"
   ]
  },
  {
   "cell_type": "code",
   "execution_count": 13,
   "metadata": {},
   "outputs": [
    {
     "name": "stdout",
     "output_type": "stream",
     "text": [
      "Graph(num_nodes={'disease': 3, 'drug': 3, 'gene': 4},\n",
      "      num_edges={('drug', 'interacts', 'drug'): 2, ('drug', 'interacts', 'gene'): 2, ('drug', 'treats', 'disease'): 1},\n",
      "      metagraph=[('drug', 'drug', 'interacts'), ('drug', 'gene', 'interacts'), ('drug', 'disease', 'treats')])\n",
      "[('drug', 'drug'), ('drug', 'gene'), ('drug', 'disease')]\n"
     ]
    }
   ],
   "source": [
    "print(g)\n",
    "print(g.metagraph().edges())"
   ]
  },
  {
   "cell_type": "code",
   "execution_count": 17,
   "metadata": {},
   "outputs": [
    {
     "name": "stdout",
     "output_type": "stream",
     "text": [
      "10\n",
      "3\n",
      "tensor([0, 1, 2])\n"
     ]
    },
    {
     "ename": "DGLError",
     "evalue": "Node type name must be specified if there are more than one node types.",
     "output_type": "error",
     "traceback": [
      "\u001b[0;31m---------------------------------------------------------------------------\u001b[0m",
      "\u001b[0;31mDGLError\u001b[0m                                  Traceback (most recent call last)",
      "\u001b[1;32m/home/sjonnal5/GNNPractice/HeterogeneousGraphs/graph.ipynb Cell 15\u001b[0m line \u001b[0;36m8\n\u001b[1;32m      <a href='vscode-notebook-cell://ssh-remote%2Bcci-prime-radiant.uncc.edu/home/sjonnal5/GNNPractice/HeterogeneousGraphs/graph.ipynb#X23sdnNjb2RlLXJlbW90ZQ%3D%3D?line=4'>5</a>\u001b[0m \u001b[39mprint\u001b[39m(g\u001b[39m.\u001b[39mnodes(\u001b[39m'\u001b[39m\u001b[39mdrug\u001b[39m\u001b[39m'\u001b[39m))\n\u001b[1;32m      <a href='vscode-notebook-cell://ssh-remote%2Bcci-prime-radiant.uncc.edu/home/sjonnal5/GNNPractice/HeterogeneousGraphs/graph.ipynb#X23sdnNjb2RlLXJlbW90ZQ%3D%3D?line=5'>6</a>\u001b[0m \u001b[39m# Nodes of different types have separate IDs,\u001b[39;00m\n\u001b[1;32m      <a href='vscode-notebook-cell://ssh-remote%2Bcci-prime-radiant.uncc.edu/home/sjonnal5/GNNPractice/HeterogeneousGraphs/graph.ipynb#X23sdnNjb2RlLXJlbW90ZQ%3D%3D?line=6'>7</a>\u001b[0m \u001b[39m# hence not well-defined without a type specified\u001b[39;00m\n\u001b[0;32m----> <a href='vscode-notebook-cell://ssh-remote%2Bcci-prime-radiant.uncc.edu/home/sjonnal5/GNNPractice/HeterogeneousGraphs/graph.ipynb#X23sdnNjb2RlLXJlbW90ZQ%3D%3D?line=7'>8</a>\u001b[0m \u001b[39mprint\u001b[39m(g\u001b[39m.\u001b[39;49mnodes())\n",
      "File \u001b[0;32m~/miniconda3/envs/dglemv/lib/python3.11/site-packages/dgl/view.py:48\u001b[0m, in \u001b[0;36mHeteroNodeView.__call__\u001b[0;34m(self, ntype)\u001b[0m\n\u001b[1;32m     46\u001b[0m \u001b[39mdef\u001b[39;00m \u001b[39m__call__\u001b[39m(\u001b[39mself\u001b[39m, ntype\u001b[39m=\u001b[39m\u001b[39mNone\u001b[39;00m):\n\u001b[1;32m     47\u001b[0m \u001b[39m    \u001b[39m\u001b[39m\"\"\"Return the nodes.\"\"\"\u001b[39;00m\n\u001b[0;32m---> 48\u001b[0m     ntid \u001b[39m=\u001b[39m \u001b[39mself\u001b[39;49m\u001b[39m.\u001b[39;49m_typeid_getter(ntype)\n\u001b[1;32m     49\u001b[0m     ret \u001b[39m=\u001b[39m F\u001b[39m.\u001b[39marange(\n\u001b[1;32m     50\u001b[0m         \u001b[39m0\u001b[39m,\n\u001b[1;32m     51\u001b[0m         \u001b[39mself\u001b[39m\u001b[39m.\u001b[39m_graph\u001b[39m.\u001b[39m_graph\u001b[39m.\u001b[39mnum_nodes(ntid),\n\u001b[1;32m     52\u001b[0m         dtype\u001b[39m=\u001b[39m\u001b[39mself\u001b[39m\u001b[39m.\u001b[39m_graph\u001b[39m.\u001b[39midtype,\n\u001b[1;32m     53\u001b[0m         ctx\u001b[39m=\u001b[39m\u001b[39mself\u001b[39m\u001b[39m.\u001b[39m_graph\u001b[39m.\u001b[39mdevice,\n\u001b[1;32m     54\u001b[0m     )\n\u001b[1;32m     55\u001b[0m     \u001b[39mreturn\u001b[39;00m ret\n",
      "File \u001b[0;32m~/miniconda3/envs/dglemv/lib/python3.11/site-packages/dgl/heterograph.py:1323\u001b[0m, in \u001b[0;36mDGLGraph.get_ntype_id\u001b[0;34m(self, ntype)\u001b[0m\n\u001b[1;32m   1321\u001b[0m \u001b[39mif\u001b[39;00m ntype \u001b[39mis\u001b[39;00m \u001b[39mNone\u001b[39;00m:\n\u001b[1;32m   1322\u001b[0m     \u001b[39mif\u001b[39;00m \u001b[39mself\u001b[39m\u001b[39m.\u001b[39mis_unibipartite \u001b[39mor\u001b[39;00m \u001b[39mlen\u001b[39m(\u001b[39mself\u001b[39m\u001b[39m.\u001b[39m_srctypes_invmap) \u001b[39m!=\u001b[39m \u001b[39m1\u001b[39m:\n\u001b[0;32m-> 1323\u001b[0m         \u001b[39mraise\u001b[39;00m DGLError(\n\u001b[1;32m   1324\u001b[0m             \u001b[39m\"\u001b[39m\u001b[39mNode type name must be specified if there are more than one \u001b[39m\u001b[39m\"\u001b[39m\n\u001b[1;32m   1325\u001b[0m             \u001b[39m\"\u001b[39m\u001b[39mnode types.\u001b[39m\u001b[39m\"\u001b[39m\n\u001b[1;32m   1326\u001b[0m         )\n\u001b[1;32m   1327\u001b[0m     \u001b[39mreturn\u001b[39;00m \u001b[39m0\u001b[39m\n\u001b[1;32m   1328\u001b[0m ntid \u001b[39m=\u001b[39m \u001b[39mself\u001b[39m\u001b[39m.\u001b[39m_srctypes_invmap\u001b[39m.\u001b[39mget(\n\u001b[1;32m   1329\u001b[0m     ntype, \u001b[39mself\u001b[39m\u001b[39m.\u001b[39m_dsttypes_invmap\u001b[39m.\u001b[39mget(ntype, \u001b[39mNone\u001b[39;00m)\n\u001b[1;32m   1330\u001b[0m )\n",
      "\u001b[0;31mDGLError\u001b[0m: Node type name must be specified if there are more than one node types."
     ]
    }
   ],
   "source": [
    "# Get the number of all nodes in the graph\n",
    "print(g.num_nodes())\n",
    "# Get the number of drug nodes\n",
    "print(g.num_nodes('drug'))\n",
    "print(g.nodes('drug'))\n",
    "# Nodes of different types have separate IDs,\n",
    "# hence not well-defined without a type specified\n",
    "print(g.nodes())\n"
   ]
  },
  {
   "cell_type": "code",
   "execution_count": 19,
   "metadata": {},
   "outputs": [
    {
     "name": "stdout",
     "output_type": "stream",
     "text": [
      "tensor([[1.],\n",
      "        [1.],\n",
      "        [1.]])\n",
      "tensor([[0.]])\n"
     ]
    }
   ],
   "source": [
    "# Set/get feature 'hv' for nodes of type 'drug'\n",
    "g.nodes['drug'].data['hv'] = th.ones(3, 1)\n",
    "print(g.nodes['drug'].data['hv'])\n",
    "# Set/get feature 'he' for edge of type 'treats'\n",
    "g.edges['treats'].data['he'] = th.zeros(1, 1)\n",
    "print(g.edges['treats'].data['he'])"
   ]
  },
  {
   "cell_type": "code",
   "execution_count": 21,
   "metadata": {},
   "outputs": [
    {
     "name": "stdout",
     "output_type": "stream",
     "text": [
      "tensor([0, 1, 2, 3])\n"
     ]
    }
   ],
   "source": [
    "g = dgl.heterograph({\n",
    "   ('drug', 'interacts', 'drug'): (th.tensor([0, 1]), th.tensor([1, 2])),\n",
    "   ('drug', 'is similar', 'drug'): (th.tensor([0, 1]), th.tensor([2, 3]))\n",
    "})\n",
    "print(g.nodes())\n",
    "# To set/get feature with a single type, no need to use the new syntax\n",
    "g.ndata['hv'] = th.ones(4, 1)"
   ]
  },
  {
   "cell_type": "code",
   "execution_count": 22,
   "metadata": {},
   "outputs": [
    {
     "name": "stdout",
     "output_type": "stream",
     "text": [
      "Graph(num_nodes={'disease': 3, 'drug': 3},\n",
      "      num_edges={('drug', 'interacts', 'drug'): 2, ('drug', 'treats', 'disease'): 1},\n",
      "      metagraph=[('drug', 'drug', 'interacts'), ('drug', 'disease', 'treats')])\n",
      "tensor([[1.],\n",
      "        [1.],\n",
      "        [1.]])\n"
     ]
    }
   ],
   "source": [
    "g = dgl.heterograph({\n",
    "   ('drug', 'interacts', 'drug'): (th.tensor([0, 1]), th.tensor([1, 2])),\n",
    "   ('drug', 'interacts', 'gene'): (th.tensor([0, 1]), th.tensor([2, 3])),\n",
    "   ('drug', 'treats', 'disease'): (th.tensor([1]), th.tensor([2]))\n",
    "})\n",
    "g.nodes['drug'].data['hv'] = th.ones(3, 1)\n",
    "# Retain relations ('drug', 'interacts', 'drug') and ('drug', 'treats', 'disease')\n",
    "# All nodes for 'drug' and 'disease' will be retained\n",
    "eg = dgl.edge_type_subgraph(g, [('drug', 'interacts', 'drug'),\n",
    "                                ('drug', 'treats', 'disease')])\n",
    "print(eg)\n",
    "# The associated features will be copied as well\n",
    "print(eg.nodes['drug'].data['hv'])"
   ]
  },
  {
   "cell_type": "code",
   "execution_count": 25,
   "metadata": {},
   "outputs": [
    {
     "name": "stdout",
     "output_type": "stream",
     "text": [
      "False\n",
      "tensor([[1.],\n",
      "        [1.],\n",
      "        [1.],\n",
      "        [0.],\n",
      "        [0.],\n",
      "        [0.]])\n"
     ]
    },
    {
     "ename": "DGLError",
     "evalue": "Cannot concatenate column he with shape Scheme(shape=(2,), dtype=torch.float32) and shape Scheme(shape=(1,), dtype=torch.float32)",
     "output_type": "error",
     "traceback": [
      "\u001b[0;31m---------------------------------------------------------------------------\u001b[0m",
      "\u001b[0;31mDGLError\u001b[0m                                  Traceback (most recent call last)",
      "\u001b[1;32m/home/sjonnal5/GNNPractice/HeterogeneousGraphs/graph.ipynb Cell 19\u001b[0m line \u001b[0;36m1\n\u001b[1;32m     <a href='vscode-notebook-cell://ssh-remote%2Bcci-prime-radiant.uncc.edu/home/sjonnal5/GNNPractice/HeterogeneousGraphs/graph.ipynb#X30sdnNjb2RlLXJlbW90ZQ%3D%3D?line=12'>13</a>\u001b[0m \u001b[39mprint\u001b[39m(hg\u001b[39m.\u001b[39mndata[\u001b[39m'\u001b[39m\u001b[39mhv\u001b[39m\u001b[39m'\u001b[39m])\n\u001b[1;32m     <a href='vscode-notebook-cell://ssh-remote%2Bcci-prime-radiant.uncc.edu/home/sjonnal5/GNNPractice/HeterogeneousGraphs/graph.ipynb#X30sdnNjb2RlLXJlbW90ZQ%3D%3D?line=13'>14</a>\u001b[0m \u001b[39m# Copy edge features\u001b[39;00m\n\u001b[1;32m     <a href='vscode-notebook-cell://ssh-remote%2Bcci-prime-radiant.uncc.edu/home/sjonnal5/GNNPractice/HeterogeneousGraphs/graph.ipynb#X30sdnNjb2RlLXJlbW90ZQ%3D%3D?line=14'>15</a>\u001b[0m \u001b[39m# For feature copy, it expects features to have\u001b[39;00m\n\u001b[1;32m     <a href='vscode-notebook-cell://ssh-remote%2Bcci-prime-radiant.uncc.edu/home/sjonnal5/GNNPractice/HeterogeneousGraphs/graph.ipynb#X30sdnNjb2RlLXJlbW90ZQ%3D%3D?line=15'>16</a>\u001b[0m \u001b[39m# the same size and dtype across node/edge types\u001b[39;00m\n\u001b[0;32m---> <a href='vscode-notebook-cell://ssh-remote%2Bcci-prime-radiant.uncc.edu/home/sjonnal5/GNNPractice/HeterogeneousGraphs/graph.ipynb#X30sdnNjb2RlLXJlbW90ZQ%3D%3D?line=16'>17</a>\u001b[0m hg \u001b[39m=\u001b[39m dgl\u001b[39m.\u001b[39;49mto_homogeneous(g, edata\u001b[39m=\u001b[39;49m[\u001b[39m'\u001b[39;49m\u001b[39mhe\u001b[39;49m\u001b[39m'\u001b[39;49m])\n",
      "File \u001b[0;32m~/miniconda3/envs/dglemv/lib/python3.11/site-packages/dgl/convert.py:1026\u001b[0m, in \u001b[0;36mto_homogeneous\u001b[0;34m(G, ndata, edata, store_type, return_count)\u001b[0m\n\u001b[1;32m   1022\u001b[0m     edata \u001b[39m=\u001b[39m []\n\u001b[1;32m   1023\u001b[0m comb_nf \u001b[39m=\u001b[39m combine_frames(\n\u001b[1;32m   1024\u001b[0m     G\u001b[39m.\u001b[39m_node_frames, \u001b[39mrange\u001b[39m(\u001b[39mlen\u001b[39m(G\u001b[39m.\u001b[39mntypes)), col_names\u001b[39m=\u001b[39mndata\n\u001b[1;32m   1025\u001b[0m )\n\u001b[0;32m-> 1026\u001b[0m comb_ef \u001b[39m=\u001b[39m combine_frames(\n\u001b[1;32m   1027\u001b[0m     G\u001b[39m.\u001b[39;49m_edge_frames, \u001b[39mrange\u001b[39;49m(\u001b[39mlen\u001b[39;49m(G\u001b[39m.\u001b[39;49metypes)), col_names\u001b[39m=\u001b[39;49medata\n\u001b[1;32m   1028\u001b[0m )\n\u001b[1;32m   1029\u001b[0m \u001b[39mif\u001b[39;00m comb_nf \u001b[39mis\u001b[39;00m \u001b[39mnot\u001b[39;00m \u001b[39mNone\u001b[39;00m:\n\u001b[1;32m   1030\u001b[0m     retg\u001b[39m.\u001b[39mndata\u001b[39m.\u001b[39mupdate(comb_nf)\n",
      "File \u001b[0;32m~/miniconda3/envs/dglemv/lib/python3.11/site-packages/dgl/heterograph.py:6572\u001b[0m, in \u001b[0;36mcombine_frames\u001b[0;34m(frames, ids, col_names)\u001b[0m\n\u001b[1;32m   6570\u001b[0m \u001b[39mif\u001b[39;00m key \u001b[39min\u001b[39;00m frame\u001b[39m.\u001b[39mschemes:\n\u001b[1;32m   6571\u001b[0m     \u001b[39mif\u001b[39;00m frame\u001b[39m.\u001b[39mschemes[key] \u001b[39m!=\u001b[39m scheme:\n\u001b[0;32m-> 6572\u001b[0m         \u001b[39mraise\u001b[39;00m DGLError(\n\u001b[1;32m   6573\u001b[0m             \u001b[39m\"\u001b[39m\u001b[39mCannot concatenate column \u001b[39m\u001b[39m%s\u001b[39;00m\u001b[39m with shape \u001b[39m\u001b[39m%s\u001b[39;00m\u001b[39m and shape \u001b[39m\u001b[39m%s\u001b[39;00m\u001b[39m\"\u001b[39m\n\u001b[1;32m   6574\u001b[0m             \u001b[39m%\u001b[39m (key, frame\u001b[39m.\u001b[39mschemes[key], scheme)\n\u001b[1;32m   6575\u001b[0m         )\n\u001b[1;32m   6576\u001b[0m \u001b[39melse\u001b[39;00m:\n\u001b[1;32m   6577\u001b[0m     \u001b[39mdel\u001b[39;00m schemes[key]\n",
      "\u001b[0;31mDGLError\u001b[0m: Cannot concatenate column he with shape Scheme(shape=(2,), dtype=torch.float32) and shape Scheme(shape=(1,), dtype=torch.float32)"
     ]
    }
   ],
   "source": [
    "g = dgl.heterograph({\n",
    "   ('drug', 'interacts', 'drug'): (th.tensor([0, 1]), th.tensor([1, 2])),\n",
    "   ('drug', 'treats', 'disease'): (th.tensor([1]), th.tensor([2]))})\n",
    "g.nodes['drug'].data['hv'] = th.zeros(3, 1)\n",
    "g.nodes['disease'].data['hv'] = th.ones(3, 1)\n",
    "g.edges['interacts'].data['he'] = th.zeros(2, 1)\n",
    "g.edges['treats'].data['he'] = th.zeros(1, 2)\n",
    "# By default, it does not merge any features\n",
    "hg = dgl.to_homogeneous(g)\n",
    "print('hv' in hg.ndata)\n",
    "# Copy node features\n",
    "hg = dgl.to_homogeneous(g, ndata=['hv'])\n",
    "print(hg.ndata['hv'])\n",
    "# Copy edge features\n",
    "# For feature copy, it expects features to have\n",
    "# the same size and dtype across node/edge types\n",
    "hg = dgl.to_homogeneous(g, edata=['he'])\n"
   ]
  },
  {
   "cell_type": "code",
   "execution_count": 26,
   "metadata": {},
   "outputs": [
    {
     "name": "stdout",
     "output_type": "stream",
     "text": [
      "['disease', 'drug']\n",
      "tensor([0, 0, 0, 1, 1, 1])\n",
      "tensor([0, 1, 2, 0, 1, 2])\n",
      "['interacts', 'treats']\n",
      "tensor([0, 0, 1])\n",
      "tensor([0, 1, 0])\n"
     ]
    }
   ],
   "source": [
    "# Order of node types in the heterograph\n",
    "print(g.ntypes)\n",
    "# Original node types\n",
    "print(hg.ndata[dgl.NTYPE])\n",
    "# Original type-specific node IDs\n",
    "print(hg.ndata[dgl.NID])\n",
    "# Order of edge types in the heterograph\n",
    "print(g.etypes)\n",
    "# Original edge types\n",
    "print(hg.edata[dgl.ETYPE])\n",
    "# Original type-specific edge IDs\n",
    "print(hg.edata[dgl.EID])"
   ]
  },
  {
   "cell_type": "code",
   "execution_count": 27,
   "metadata": {},
   "outputs": [
    {
     "data": {
      "text/plain": [
       "Graph(num_nodes=7, num_edges=4,\n",
       "      ndata_schemes={'_ID': Scheme(shape=(), dtype=torch.int64), '_TYPE': Scheme(shape=(), dtype=torch.int64)}\n",
       "      edata_schemes={'_ID': Scheme(shape=(), dtype=torch.int64), '_TYPE': Scheme(shape=(), dtype=torch.int64)})"
      ]
     },
     "execution_count": 27,
     "metadata": {},
     "output_type": "execute_result"
    }
   ],
   "source": [
    "g = dgl.heterograph({\n",
    "   ('drug', 'interacts', 'drug'): (th.tensor([0, 1]), th.tensor([1, 2])),\n",
    "   ('drug', 'interacts', 'gene'): (th.tensor([0, 1]), th.tensor([2, 3])),\n",
    "   ('drug', 'treats', 'disease'): (th.tensor([1]), th.tensor([2]))\n",
    "})\n",
    "sub_g = dgl.edge_type_subgraph(g, [('drug', 'interacts', 'drug'),\n",
    "                                   ('drug', 'interacts', 'gene')])\n",
    "h_sub_g = dgl.to_homogeneous(sub_g)\n",
    "h_sub_g"
   ]
  }
 ],
 "metadata": {
  "kernelspec": {
   "display_name": "dglemv",
   "language": "python",
   "name": "python3"
  },
  "language_info": {
   "codemirror_mode": {
    "name": "ipython",
    "version": 3
   },
   "file_extension": ".py",
   "mimetype": "text/x-python",
   "name": "python",
   "nbconvert_exporter": "python",
   "pygments_lexer": "ipython3",
   "version": "3.11.5"
  },
  "orig_nbformat": 4
 },
 "nbformat": 4,
 "nbformat_minor": 2
}

{
 "cells": [
  {
   "cell_type": "markdown",
   "metadata": {},
   "source": [
    "### Built-in Functions and Message Passing APIs"
   ]
  },
  {
   "cell_type": "code",
   "execution_count": 2,
   "metadata": {},
   "outputs": [],
   "source": [
    "def message_func(edges):\n",
    "     return {'he': edges.src['hu'] + edges.dst['hv']}"
   ]
  },
  {
   "cell_type": "code",
   "execution_count": 3,
   "metadata": {},
   "outputs": [],
   "source": [
    "import torch\n",
    "def reduce_func(nodes):\n",
    "     return {'h': torch.sum(nodes.mailbox['m'], dim=1)}"
   ]
  },
  {
   "cell_type": "code",
   "execution_count": null,
   "metadata": {},
   "outputs": [],
   "source": [
    "import dgl.function as fn\n",
    "graph.apply_edges(fn.u_add_v('el', 'er', 'e'))"
   ]
  },
  {
   "cell_type": "code",
   "execution_count": 4,
   "metadata": {},
   "outputs": [],
   "source": [
    "def update_all_example(graph):\n",
    "    # store the result in graph.ndata['ft']\n",
    "    graph.update_all(fn.u_mul_e('ft', 'a', 'm'),\n",
    "                     fn.sum('m', 'ft'))\n",
    "    # Call update function outside of update_all\n",
    "    final_ft = graph.ndata['ft'] * 2\n",
    "    return final_ft"
   ]
  },
  {
   "cell_type": "markdown",
   "metadata": {},
   "source": [
    "### Writing Efficient Message Passing Code"
   ]
  },
  {
   "cell_type": "code",
   "execution_count": null,
   "metadata": {},
   "outputs": [],
   "source": [
    "import torch\n",
    "import torch.nn as nn\n",
    "\n",
    "linear = nn.Parameter(torch.FloatTensor(size=(node_feat_dim * 2, out_dim)))\n",
    "def concat_message_function(edges):\n",
    "     return {'cat_feat': torch.cat([edges.src['feat'], edges.dst['feat']], dim=1)}\n",
    "g.apply_edges(concat_message_function)\n",
    "g.edata['out'] = g.edata['cat_feat'] @ linear"
   ]
  },
  {
   "cell_type": "code",
   "execution_count": null,
   "metadata": {},
   "outputs": [],
   "source": [
    "import dgl.function as fn\n",
    "\n",
    "linear_src = nn.Parameter(torch.FloatTensor(size=(node_feat_dim, out_dim)))\n",
    "linear_dst = nn.Parameter(torch.FloatTensor(size=(node_feat_dim, out_dim)))\n",
    "out_src = g.ndata['feat'] @ linear_src\n",
    "out_dst = g.ndata['feat'] @ linear_dst\n",
    "g.srcdata.update({'out_src': out_src})\n",
    "g.dstdata.update({'out_dst': out_dst})\n",
    "g.apply_edges(fn.u_add_v('out_src', 'out_dst', 'out'))"
   ]
  },
  {
   "cell_type": "markdown",
   "metadata": {},
   "source": [
    "### Apply Message Passing on part of the Graph"
   ]
  },
  {
   "cell_type": "code",
   "execution_count": null,
   "metadata": {},
   "outputs": [],
   "source": [
    "nid = [0, 2, 3, 6, 7, 9]\n",
    "sg = g.subgraph(nid)\n",
    "sg.update_all(message_func, reduce_func, apply_node_func)"
   ]
  },
  {
   "cell_type": "markdown",
   "metadata": {},
   "source": [
    "### Message Passing on Heterogeneous Graphs"
   ]
  },
  {
   "cell_type": "code",
   "execution_count": null,
   "metadata": {},
   "outputs": [],
   "source": [
    "import dgl.function as fn\n",
    "\n",
    "for c_etype in G.canonical_etypes:\n",
    "    srctype, etype, dsttype = c_etype\n",
    "    Wh = self.weight[etype](feat_dict[srctype])\n",
    "    # Save it in graph for message passing\n",
    "    G.nodes[srctype].data['Wh_%s' % etype] = Wh\n",
    "    # Specify per-relation message passing functions: (message_func, reduce_func).\n",
    "    # Note that the results are saved to the same destination feature 'h', which\n",
    "    # hints the type wise reducer for aggregation.\n",
    "    funcs[etype] = (fn.copy_u('Wh_%s' % etype, 'm'), fn.mean('m', 'h'))\n",
    "# Trigger message passing of multiple types.\n",
    "G.multi_update_all(funcs, 'sum')\n",
    "# return the updated node feature dictionary\n",
    "return {ntype : G.nodes[ntype].data['h'] for ntype in G.ntypes}"
   ]
  }
 ],
 "metadata": {
  "kernelspec": {
   "display_name": "dglemv",
   "language": "python",
   "name": "python3"
  },
  "language_info": {
   "codemirror_mode": {
    "name": "ipython",
    "version": 3
   },
   "file_extension": ".py",
   "mimetype": "text/x-python",
   "name": "python",
   "nbconvert_exporter": "python",
   "pygments_lexer": "ipython3",
   "version": "3.11.5"
  },
  "orig_nbformat": 4
 },
 "nbformat": 4,
 "nbformat_minor": 2
}

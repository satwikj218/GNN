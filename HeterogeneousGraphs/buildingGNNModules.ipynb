{
 "cells": [
  {
   "cell_type": "markdown",
   "metadata": {},
   "source": [
    "### DGL NN Module Construction Function"
   ]
  },
  {
   "cell_type": "code",
   "execution_count": 1,
   "metadata": {},
   "outputs": [],
   "source": [
    "import torch.nn as nn\n",
    "\n",
    "from dgl.utils import expand_as_pair\n",
    "\n",
    "class SAGEConv(nn.Module):\n",
    "    def __init__(self,\n",
    "                 in_feats,\n",
    "                 out_feats,\n",
    "                 aggregator_type,\n",
    "                 bias=True,\n",
    "                 norm=None,\n",
    "                 activation=None):\n",
    "        super(SAGEConv, self).__init__()\n",
    "\n",
    "        self._in_src_feats, self._in_dst_feats = expand_as_pair(in_feats)\n",
    "        self._out_feats = out_feats\n",
    "        self._aggre_type = aggregator_type\n",
    "        self.norm = norm\n",
    "        self.activation = activation"
   ]
  },
  {
   "cell_type": "code",
   "execution_count": null,
   "metadata": {},
   "outputs": [],
   "source": [
    "# aggregator type: mean, pool, lstm, gcn\n",
    "if aggregator_type not in ['mean', 'pool', 'lstm', 'gcn']:\n",
    "    raise KeyError('Aggregator type {} not supported.'.format(aggregator_type))\n",
    "if aggregator_type == 'pool':\n",
    "    self.fc_pool = nn.Linear(self._in_src_feats, self._in_src_feats)\n",
    "if aggregator_type == 'lstm':\n",
    "    self.lstm = nn.LSTM(self._in_src_feats, self._in_src_feats, batch_first=True)\n",
    "if aggregator_type in ['mean', 'pool', 'lstm']:\n",
    "    self.fc_self = nn.Linear(self._in_dst_feats, out_feats, bias=bias)\n",
    "self.fc_neigh = nn.Linear(self._in_src_feats, out_feats, bias=bias)\n",
    "self.reset_parameters()"
   ]
  },
  {
   "cell_type": "code",
   "execution_count": null,
   "metadata": {},
   "outputs": [],
   "source": [
    "def reset_parameters(self):\n",
    "    \"\"\"Reinitialize learnable parameters.\"\"\"\n",
    "    gain = nn.init.calculate_gain('relu')\n",
    "    if self._aggre_type == 'pool':\n",
    "        nn.init.xavier_uniform_(self.fc_pool.weight, gain=gain)\n",
    "    if self._aggre_type == 'lstm':\n",
    "        self.lstm.reset_parameters()\n",
    "    if self._aggre_type != 'gcn':\n",
    "        nn.init.xavier_uniform_(self.fc_self.weight, gain=gain)\n",
    "    nn.init.xavier_uniform_(self.fc_neigh.weight, gain=gain)"
   ]
  },
  {
   "cell_type": "markdown",
   "metadata": {},
   "source": [
    "### DGL NN Module Forward Function"
   ]
  },
  {
   "cell_type": "markdown",
   "metadata": {},
   "source": [
    "#### Graph checking and graph type specification"
   ]
  },
  {
   "cell_type": "code",
   "execution_count": null,
   "metadata": {},
   "outputs": [],
   "source": [
    "def forward(self, graph, feat):\n",
    "    with graph.local_scope():\n",
    "        # Specify graph type then expand input feature according to graph type\n",
    "        feat_src, feat_dst = expand_as_pair(feat, graph)"
   ]
  },
  {
   "cell_type": "code",
   "execution_count": null,
   "metadata": {},
   "outputs": [],
   "source": [
    "def expand_as_pair(input_, g=None):\n",
    "    if isinstance(input_, tuple):\n",
    "        # Bipartite graph case\n",
    "        return input_\n",
    "    elif g is not None and g.is_block:\n",
    "        # Subgraph block case\n",
    "        if isinstance(input_, Mapping):\n",
    "            input_dst = {\n",
    "                k: F.narrow_row(v, 0, g.number_of_dst_nodes(k))\n",
    "                for k, v in input_.items()}\n",
    "        else:\n",
    "            input_dst = F.narrow_row(input_, 0, g.number_of_dst_nodes())\n",
    "        return input_, input_dst\n",
    "    else:\n",
    "        # Homogeneous graph case\n",
    "        return input_, input_"
   ]
  },
  {
   "cell_type": "markdown",
   "metadata": {},
   "source": [
    "#### Message passing and reducing"
   ]
  },
  {
   "cell_type": "code",
   "execution_count": null,
   "metadata": {},
   "outputs": [],
   "source": [
    "import dgl.function as fn\n",
    "import torch.nn.functional as F\n",
    "from dgl.utils import check_eq_shape\n",
    "\n",
    "if self._aggre_type == 'mean':\n",
    "    graph.srcdata['h'] = feat_src\n",
    "    graph.update_all(fn.copy_u('h', 'm'), fn.mean('m', 'neigh'))\n",
    "    h_neigh = graph.dstdata['neigh']\n",
    "elif self._aggre_type == 'gcn':\n",
    "    check_eq_shape(feat)\n",
    "    graph.srcdata['h'] = feat_src\n",
    "    graph.dstdata['h'] = feat_dst\n",
    "    graph.update_all(fn.copy_u('h', 'm'), fn.sum('m', 'neigh'))\n",
    "    # divide in_degrees\n",
    "    degs = graph.in_degrees().to(feat_dst)\n",
    "    h_neigh = (graph.dstdata['neigh'] + graph.dstdata['h']) / (degs.unsqueeze(-1) + 1)\n",
    "elif self._aggre_type == 'pool':\n",
    "    graph.srcdata['h'] = F.relu(self.fc_pool(feat_src))\n",
    "    graph.update_all(fn.copy_u('h', 'm'), fn.max('m', 'neigh'))\n",
    "    h_neigh = graph.dstdata['neigh']\n",
    "else:\n",
    "    raise KeyError('Aggregator type {} not recognized.'.format(self._aggre_type))\n",
    "\n",
    "# GraphSAGE GCN does not require fc_self.\n",
    "if self._aggre_type == 'gcn':\n",
    "    rst = self.fc_neigh(h_neigh)\n",
    "else:\n",
    "    rst = self.fc_self(h_self) + self.fc_neigh(h_neigh)"
   ]
  },
  {
   "cell_type": "markdown",
   "metadata": {},
   "source": [
    "#### Update feature after reducing for input"
   ]
  },
  {
   "cell_type": "code",
   "execution_count": null,
   "metadata": {},
   "outputs": [],
   "source": [
    "# activation\n",
    "if self.activation is not None:\n",
    "    rst = self.activation(rst)\n",
    "# normalization\n",
    "if self.norm is not None:\n",
    "    rst = self.norm(rst)\n",
    "return rst"
   ]
  },
  {
   "cell_type": "markdown",
   "metadata": {},
   "source": [
    "### Heterogeneous GraphConv Module\n",
    "#### HeteroGraphConv implementation logic"
   ]
  },
  {
   "cell_type": "code",
   "execution_count": null,
   "metadata": {},
   "outputs": [],
   "source": [
    "import torch.nn as nn\n",
    "\n",
    "class HeteroGraphConv(nn.Module):\n",
    "    def __init__(self, mods, aggregate='sum'):\n",
    "        super(HeteroGraphConv, self).__init__()\n",
    "        self.mods = nn.ModuleDict(mods)\n",
    "        if isinstance(aggregate, str):\n",
    "            # An internal function to get common aggregation functions\n",
    "            self.agg_fn = get_aggregate_fn(aggregate)\n",
    "        else:\n",
    "            self.agg_fn = aggregate"
   ]
  },
  {
   "cell_type": "code",
   "execution_count": null,
   "metadata": {},
   "outputs": [],
   "source": [
    "def forward(self, g, inputs, mod_args=None, mod_kwargs=None):\n",
    "    if mod_args is None:\n",
    "        mod_args = {}\n",
    "    if mod_kwargs is None:\n",
    "        mod_kwargs = {}\n",
    "    outputs = {nty : [] for nty in g.dsttypes}"
   ]
  },
  {
   "cell_type": "code",
   "execution_count": null,
   "metadata": {},
   "outputs": [],
   "source": [
    "if g.is_block:\n",
    "    src_inputs = inputs\n",
    "    dst_inputs = {k: v[:g.number_of_dst_nodes(k)] for k, v in inputs.items()}\n",
    "else:\n",
    "    src_inputs = dst_inputs = inputs\n",
    "\n",
    "for stype, etype, dtype in g.canonical_etypes:\n",
    "    rel_graph = g[stype, etype, dtype]\n",
    "    if rel_graph.num_edges() == 0:\n",
    "        continue\n",
    "    if stype not in src_inputs or dtype not in dst_inputs:\n",
    "        continue\n",
    "    dstdata = self.mods[etype](\n",
    "        rel_graph,\n",
    "        (src_inputs[stype], dst_inputs[dtype]),\n",
    "        *mod_args.get(etype, ()),\n",
    "        **mod_kwargs.get(etype, {}))\n",
    "    outputs[dtype].append(dstdata)"
   ]
  },
  {
   "cell_type": "code",
   "execution_count": null,
   "metadata": {},
   "outputs": [],
   "source": [
    "rsts = {}\n",
    "for nty, alist in outputs.items():\n",
    "    if len(alist) != 0:\n",
    "        rsts[nty] = self.agg_fn(alist, nty)"
   ]
  }
 ],
 "metadata": {
  "kernelspec": {
   "display_name": "dglemv",
   "language": "python",
   "name": "python3"
  },
  "language_info": {
   "codemirror_mode": {
    "name": "ipython",
    "version": 3
   },
   "file_extension": ".py",
   "mimetype": "text/x-python",
   "name": "python",
   "nbconvert_exporter": "python",
   "pygments_lexer": "ipython3",
   "version": "3.11.5"
  },
  "orig_nbformat": 4
 },
 "nbformat": 4,
 "nbformat_minor": 2
}

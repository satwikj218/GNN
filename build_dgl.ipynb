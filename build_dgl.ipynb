{
 "cells": [
  {
   "cell_type": "code",
   "execution_count": 1,
   "metadata": {},
   "outputs": [],
   "source": [
    "import json\n",
    "from collections import defaultdict\n",
    "from tqdm import tqdm\n",
    "\n",
    "import spacy\n",
    "import numpy as np\n",
    "import torch\n",
    "\n",
    "import networkx as nx\n",
    "import pandas as pd\n",
    "import dgl"
   ]
  },
  {
   "cell_type": "markdown",
   "metadata": {},
   "source": [
    "https://stackoverflow.com/questions/70835924/how-to-get-a-description-for-each-spacy-ner-entity"
   ]
  },
  {
   "cell_type": "code",
   "execution_count": 2,
   "metadata": {},
   "outputs": [],
   "source": [
    "nlp1 = spacy.load('en_core_web_trf')\n",
    "nlp2 = spacy.load('xx_ent_wiki_sm')"
   ]
  },
  {
   "cell_type": "code",
   "execution_count": 2,
   "metadata": {},
   "outputs": [],
   "source": [
    "DATE_FORMAT = '%m/%d/%Y'"
   ]
  },
  {
   "cell_type": "code",
   "execution_count": 3,
   "metadata": {},
   "outputs": [
    {
     "name": "stdout",
     "output_type": "stream",
     "text": [
      "<class 'pandas.core.frame.DataFrame'>\n",
      "Index: 997258 entries, 36615529 to 37764080\n",
      "Data columns (total 21 columns):\n",
      " #   Column           Non-Null Count   Dtype         \n",
      "---  ------           --------------   -----         \n",
      " 0   Event Date       997258 non-null  datetime64[ns]\n",
      " 1   Source Name      997258 non-null  object        \n",
      " 2   Source Sectors   729968 non-null  object        \n",
      " 3   Source Country   954831 non-null  object        \n",
      " 4   Source Type      997258 non-null  object        \n",
      " 5   Event Text       997258 non-null  object        \n",
      " 6   CAMEO Code       997258 non-null  int64         \n",
      " 7   Intensity        997258 non-null  float64       \n",
      " 8   Target Name      997258 non-null  object        \n",
      " 9   Target Sectors   620065 non-null  object        \n",
      " 10  Target Country   937119 non-null  object        \n",
      " 11  Target Type      997258 non-null  object        \n",
      " 12  Story ID         997258 non-null  int64         \n",
      " 13  Sentence Number  997258 non-null  int64         \n",
      " 14  Publisher        997258 non-null  object        \n",
      " 15  City             675324 non-null  object        \n",
      " 16  District         160254 non-null  object        \n",
      " 17  Province         746043 non-null  object        \n",
      " 18  Country          997180 non-null  object        \n",
      " 19  Latitude         997181 non-null  float64       \n",
      " 20  Longitude        997181 non-null  float64       \n",
      "dtypes: datetime64[ns](1), float64(3), int64(3), object(14)\n",
      "memory usage: 167.4+ MB\n"
     ]
    }
   ],
   "source": [
    "data_2022 = pd.read_csv('ICEWS-2022.csv', header=0, index_col=['Event ID'], parse_dates=['Event Date'], date_format=DATE_FORMAT)\n",
    "data_2023 = pd.read_csv('ICEWS-2023.csv', header=0, index_col=['Event ID'], parse_dates=['Event Date'], date_format=DATE_FORMAT)\n",
    "\n",
    "data = pd.concat([data_2022, data_2023])\n",
    "data.drop(columns=['Latitude', 'Longitude', ])\n",
    "data.info()"
   ]
  },
  {
   "cell_type": "code",
   "execution_count": 4,
   "metadata": {},
   "outputs": [
    {
     "data": {
      "text/html": [
       "<div>\n",
       "<style scoped>\n",
       "    .dataframe tbody tr th:only-of-type {\n",
       "        vertical-align: middle;\n",
       "    }\n",
       "\n",
       "    .dataframe tbody tr th {\n",
       "        vertical-align: top;\n",
       "    }\n",
       "\n",
       "    .dataframe thead th {\n",
       "        text-align: right;\n",
       "    }\n",
       "</style>\n",
       "<table border=\"1\" class=\"dataframe\">\n",
       "  <thead>\n",
       "    <tr style=\"text-align: right;\">\n",
       "      <th></th>\n",
       "      <th>Event Date</th>\n",
       "      <th>Source Name</th>\n",
       "      <th>Source Sectors</th>\n",
       "      <th>Source Country</th>\n",
       "      <th>Source Type</th>\n",
       "      <th>Event Text</th>\n",
       "      <th>CAMEO Code</th>\n",
       "      <th>Intensity</th>\n",
       "      <th>Target Name</th>\n",
       "      <th>Target Sectors</th>\n",
       "      <th>...</th>\n",
       "      <th>Target Type</th>\n",
       "      <th>Story ID</th>\n",
       "      <th>Sentence Number</th>\n",
       "      <th>Publisher</th>\n",
       "      <th>City</th>\n",
       "      <th>District</th>\n",
       "      <th>Province</th>\n",
       "      <th>Country</th>\n",
       "      <th>Latitude</th>\n",
       "      <th>Longitude</th>\n",
       "    </tr>\n",
       "    <tr>\n",
       "      <th>Event ID</th>\n",
       "      <th></th>\n",
       "      <th></th>\n",
       "      <th></th>\n",
       "      <th></th>\n",
       "      <th></th>\n",
       "      <th></th>\n",
       "      <th></th>\n",
       "      <th></th>\n",
       "      <th></th>\n",
       "      <th></th>\n",
       "      <th></th>\n",
       "      <th></th>\n",
       "      <th></th>\n",
       "      <th></th>\n",
       "      <th></th>\n",
       "      <th></th>\n",
       "      <th></th>\n",
       "      <th></th>\n",
       "      <th></th>\n",
       "      <th></th>\n",
       "      <th></th>\n",
       "    </tr>\n",
       "  </thead>\n",
       "  <tbody>\n",
       "    <tr>\n",
       "      <th>36615529</th>\n",
       "      <td>2022-01-01</td>\n",
       "      <td>South Korea</td>\n",
       "      <td>NaN</td>\n",
       "      <td>South Korea</td>\n",
       "      <td>Country</td>\n",
       "      <td>Demand rights</td>\n",
       "      <td>1043</td>\n",
       "      <td>-5.0</td>\n",
       "      <td>Government (South Korea)</td>\n",
       "      <td>Government</td>\n",
       "      <td>...</td>\n",
       "      <td>Other</td>\n",
       "      <td>54339603</td>\n",
       "      <td>2</td>\n",
       "      <td>Yonhap English News</td>\n",
       "      <td>Seoul</td>\n",
       "      <td>NaN</td>\n",
       "      <td>Seoul-teukbyeolsi</td>\n",
       "      <td>South Korea</td>\n",
       "      <td>37.56830</td>\n",
       "      <td>126.9780</td>\n",
       "    </tr>\n",
       "    <tr>\n",
       "      <th>36615519</th>\n",
       "      <td>2022-01-01</td>\n",
       "      <td>Ministry (Indonesia)</td>\n",
       "      <td>Government</td>\n",
       "      <td>Indonesia</td>\n",
       "      <td>Other</td>\n",
       "      <td>Reject</td>\n",
       "      <td>120</td>\n",
       "      <td>-4.0</td>\n",
       "      <td>Reuters</td>\n",
       "      <td>Media,News,Social</td>\n",
       "      <td>...</td>\n",
       "      <td>Organization</td>\n",
       "      <td>54339616</td>\n",
       "      <td>2</td>\n",
       "      <td>Unknown</td>\n",
       "      <td>Jakarta</td>\n",
       "      <td>NaN</td>\n",
       "      <td>Daerah Khusus Ibukota Jakarta</td>\n",
       "      <td>Indonesia</td>\n",
       "      <td>-6.21462</td>\n",
       "      <td>106.8450</td>\n",
       "    </tr>\n",
       "    <tr>\n",
       "      <th>36615520</th>\n",
       "      <td>2022-01-01</td>\n",
       "      <td>Denis Moncada</td>\n",
       "      <td>Executive,Foreign Ministry,Government</td>\n",
       "      <td>Nicaragua</td>\n",
       "      <td>Organization</td>\n",
       "      <td>Host a visit</td>\n",
       "      <td>43</td>\n",
       "      <td>2.8</td>\n",
       "      <td>China</td>\n",
       "      <td>NaN</td>\n",
       "      <td>...</td>\n",
       "      <td>Country</td>\n",
       "      <td>54339617</td>\n",
       "      <td>1</td>\n",
       "      <td>Al Jazeera English</td>\n",
       "      <td>Managua</td>\n",
       "      <td>NaN</td>\n",
       "      <td>Departamento de Managua</td>\n",
       "      <td>Nicaragua</td>\n",
       "      <td>12.13280</td>\n",
       "      <td>-86.2504</td>\n",
       "    </tr>\n",
       "    <tr>\n",
       "      <th>36615521</th>\n",
       "      <td>2022-01-01</td>\n",
       "      <td>Denis Moncada</td>\n",
       "      <td>Executive,Foreign Ministry,Government</td>\n",
       "      <td>Nicaragua</td>\n",
       "      <td>Organization</td>\n",
       "      <td>Praise or endorse</td>\n",
       "      <td>51</td>\n",
       "      <td>3.4</td>\n",
       "      <td>Foreign Affairs (China)</td>\n",
       "      <td>Executive,Foreign Ministry,Government</td>\n",
       "      <td>...</td>\n",
       "      <td>Organization</td>\n",
       "      <td>54339617</td>\n",
       "      <td>1</td>\n",
       "      <td>Al Jazeera English</td>\n",
       "      <td>Managua</td>\n",
       "      <td>NaN</td>\n",
       "      <td>Departamento de Managua</td>\n",
       "      <td>Nicaragua</td>\n",
       "      <td>12.13280</td>\n",
       "      <td>-86.2504</td>\n",
       "    </tr>\n",
       "    <tr>\n",
       "      <th>36615523</th>\n",
       "      <td>2022-01-01</td>\n",
       "      <td>China</td>\n",
       "      <td>NaN</td>\n",
       "      <td>China</td>\n",
       "      <td>Country</td>\n",
       "      <td>Make a visit</td>\n",
       "      <td>42</td>\n",
       "      <td>1.9</td>\n",
       "      <td>Denis Moncada</td>\n",
       "      <td>Executive,Foreign Ministry,Government</td>\n",
       "      <td>...</td>\n",
       "      <td>Organization</td>\n",
       "      <td>54339617</td>\n",
       "      <td>1</td>\n",
       "      <td>Al Jazeera English</td>\n",
       "      <td>Managua</td>\n",
       "      <td>NaN</td>\n",
       "      <td>Departamento de Managua</td>\n",
       "      <td>Nicaragua</td>\n",
       "      <td>12.13280</td>\n",
       "      <td>-86.2504</td>\n",
       "    </tr>\n",
       "  </tbody>\n",
       "</table>\n",
       "<p>5 rows × 21 columns</p>\n",
       "</div>"
      ],
      "text/plain": [
       "         Event Date           Source Name  \\\n",
       "Event ID                                    \n",
       "36615529 2022-01-01           South Korea   \n",
       "36615519 2022-01-01  Ministry (Indonesia)   \n",
       "36615520 2022-01-01         Denis Moncada   \n",
       "36615521 2022-01-01         Denis Moncada   \n",
       "36615523 2022-01-01                 China   \n",
       "\n",
       "                                 Source Sectors Source Country   Source Type  \\\n",
       "Event ID                                                                       \n",
       "36615529                                    NaN    South Korea       Country   \n",
       "36615519                             Government      Indonesia         Other   \n",
       "36615520  Executive,Foreign Ministry,Government      Nicaragua  Organization   \n",
       "36615521  Executive,Foreign Ministry,Government      Nicaragua  Organization   \n",
       "36615523                                    NaN          China       Country   \n",
       "\n",
       "                 Event Text  CAMEO Code  Intensity               Target Name  \\\n",
       "Event ID                                                                       \n",
       "36615529      Demand rights        1043       -5.0  Government (South Korea)   \n",
       "36615519             Reject         120       -4.0                   Reuters   \n",
       "36615520       Host a visit          43        2.8                     China   \n",
       "36615521  Praise or endorse          51        3.4   Foreign Affairs (China)   \n",
       "36615523       Make a visit          42        1.9             Denis Moncada   \n",
       "\n",
       "                                 Target Sectors  ...   Target Type  Story ID  \\\n",
       "Event ID                                         ...                           \n",
       "36615529                             Government  ...         Other  54339603   \n",
       "36615519                      Media,News,Social  ...  Organization  54339616   \n",
       "36615520                                    NaN  ...       Country  54339617   \n",
       "36615521  Executive,Foreign Ministry,Government  ...  Organization  54339617   \n",
       "36615523  Executive,Foreign Ministry,Government  ...  Organization  54339617   \n",
       "\n",
       "          Sentence Number            Publisher     City District  \\\n",
       "Event ID                                                           \n",
       "36615529                2  Yonhap English News    Seoul      NaN   \n",
       "36615519                2              Unknown  Jakarta      NaN   \n",
       "36615520                1   Al Jazeera English  Managua      NaN   \n",
       "36615521                1   Al Jazeera English  Managua      NaN   \n",
       "36615523                1   Al Jazeera English  Managua      NaN   \n",
       "\n",
       "                               Province      Country  Latitude  Longitude  \n",
       "Event ID                                                                   \n",
       "36615529              Seoul-teukbyeolsi  South Korea  37.56830   126.9780  \n",
       "36615519  Daerah Khusus Ibukota Jakarta    Indonesia  -6.21462   106.8450  \n",
       "36615520        Departamento de Managua    Nicaragua  12.13280   -86.2504  \n",
       "36615521        Departamento de Managua    Nicaragua  12.13280   -86.2504  \n",
       "36615523        Departamento de Managua    Nicaragua  12.13280   -86.2504  \n",
       "\n",
       "[5 rows x 21 columns]"
      ]
     },
     "execution_count": 4,
     "metadata": {},
     "output_type": "execute_result"
    }
   ],
   "source": [
    "data.head()"
   ]
  },
  {
   "cell_type": "code",
   "execution_count": 5,
   "metadata": {},
   "outputs": [],
   "source": [
    "ent_type_map = {}\n",
    "for _, name, ent_type in data[['Source Name', 'Source Type']].itertuples(name=None):\n",
    "    ent_type_map[name] = ent_type\n",
    "for _, name, ent_type in data[['Target Name', 'Target Type']].itertuples(name=None):\n",
    "    ent_type_map[name] = ent_type"
   ]
  },
  {
   "cell_type": "code",
   "execution_count": 6,
   "metadata": {},
   "outputs": [
    {
     "name": "stdout",
     "output_type": "stream",
     "text": [
      "Counter({'Other': 12277, 'Organization': 7928, 'Name': 4759, 'Country': 456, 'Political Group': 323, 'Object': 17, 'Infrastructure': 10, 'Date': 7, 'Art': 4, 'Percent': 2, 'Law': 2, 'Event': 1})\n"
     ]
    }
   ],
   "source": [
    "from collections import Counter\n",
    "\n",
    "ntype_count = Counter(ent_type_map.values())\n",
    "print(ntype_count)"
   ]
  },
  {
   "cell_type": "code",
   "execution_count": 5,
   "metadata": {},
   "outputs": [
    {
     "name": "stdout",
     "output_type": "stream",
     "text": [
      "25786\n"
     ]
    }
   ],
   "source": [
    "entities = list(set(data['Source Name'].unique()) | set(data['Target Name'].unique()))\n",
    "entities.sort()\n",
    "print(len(entities))"
   ]
  },
  {
   "cell_type": "code",
   "execution_count": 36,
   "metadata": {},
   "outputs": [
    {
     "name": "stdout",
     "output_type": "stream",
     "text": [
      "1846 / 25786\n",
      "60 / 25786\n",
      "set()\n"
     ]
    }
   ],
   "source": [
    "count, mismatch, bad = 0, 0, 0\n",
    "ents = set()\n",
    "for entity, doc1, doc2 in zip(entities, nlp1.pipe(entities, disable=['tok2vec', 'tagger', 'parser', 'attribute_ruler', 'lemmatizer']), nlp2.pipe(entities, disable=['tok2vec', 'tagger', 'parser', 'attribute_ruler', 'lemmatizer'])):\n",
    "    # if count >= 10: break\n",
    "    try:\n",
    "       ent1 = doc1.ents[0].label_\n",
    "       ents.add(ent1)\n",
    "    except IndexError:\n",
    "        ent1 = None\n",
    "    try:\n",
    "        ent2 = doc2.ents[0].label_\n",
    "        if ent2 == 'PER':\n",
    "            ent2 = 'PERSON'\n",
    "        ents.add(ent2)\n",
    "    except IndexError:\n",
    "        ent2 = None\n",
    "\n",
    "    if ent1 or ent2:\n",
    "        count += 1\n",
    "    if ent1 != ent2:\n",
    "        mismatch += 1\n",
    "    if not ent1 and not ent2:\n",
    "        bad += 1\n",
    "\n",
    "print(f'{count} / {len(entities)}')\n",
    "print(f'{mismatch} / {len(entities)}')\n",
    "print(f'{bad} / {len(entities)}')\n",
    "print(ents)"
   ]
  },
  {
   "cell_type": "code",
   "execution_count": 8,
   "metadata": {},
   "outputs": [
    {
     "data": {
      "text/plain": [
       "Source Type\n",
       "Other              320298\n",
       "Country            246877\n",
       "Name               222461\n",
       "Organization       198118\n",
       "Political Group      8884\n",
       "Object                515\n",
       "Infrastructure         52\n",
       "Date                   44\n",
       "Art                     3\n",
       "Law                     3\n",
       "Percent                 2\n",
       "Event                   1\n",
       "Name: count, dtype: int64"
      ]
     },
     "execution_count": 8,
     "metadata": {},
     "output_type": "execute_result"
    }
   ],
   "source": [
    "data['Source Type'].value_counts()"
   ]
  },
  {
   "cell_type": "code",
   "execution_count": 6,
   "metadata": {},
   "outputs": [],
   "source": [
    "etype_counts = data['Event Text'].value_counts()\n",
    "etypes = etype_counts[etype_counts > 10].index.tolist()"
   ]
  },
  {
   "cell_type": "code",
   "execution_count": 7,
   "metadata": {},
   "outputs": [],
   "source": [
    "data_redux = data[data['Event Text'].isin(etypes)]"
   ]
  },
  {
   "cell_type": "code",
   "execution_count": 8,
   "metadata": {},
   "outputs": [
    {
     "name": "stdout",
     "output_type": "stream",
     "text": [
      "<class 'pandas.core.frame.DataFrame'>\n",
      "Index: 997089 entries, 36615529 to 37764080\n",
      "Data columns (total 21 columns):\n",
      " #   Column           Non-Null Count   Dtype         \n",
      "---  ------           --------------   -----         \n",
      " 0   Event Date       997089 non-null  datetime64[ns]\n",
      " 1   Source Name      997089 non-null  object        \n",
      " 2   Source Sectors   729857 non-null  object        \n",
      " 3   Source Country   954666 non-null  object        \n",
      " 4   Source Type      997089 non-null  object        \n",
      " 5   Event Text       997089 non-null  object        \n",
      " 6   CAMEO Code       997089 non-null  int64         \n",
      " 7   Intensity        997089 non-null  float64       \n",
      " 8   Target Name      997089 non-null  object        \n",
      " 9   Target Sectors   619973 non-null  object        \n",
      " 10  Target Country   936958 non-null  object        \n",
      " 11  Target Type      997089 non-null  object        \n",
      " 12  Story ID         997089 non-null  int64         \n",
      " 13  Sentence Number  997089 non-null  int64         \n",
      " 14  Publisher        997089 non-null  object        \n",
      " 15  City             675199 non-null  object        \n",
      " 16  District         160229 non-null  object        \n",
      " 17  Province         745909 non-null  object        \n",
      " 18  Country          997011 non-null  object        \n",
      " 19  Latitude         997012 non-null  float64       \n",
      " 20  Longitude        997012 non-null  float64       \n",
      "dtypes: datetime64[ns](1), float64(3), int64(3), object(14)\n",
      "memory usage: 167.4+ MB\n"
     ]
    }
   ],
   "source": [
    "data_redux.info()"
   ]
  },
  {
   "cell_type": "code",
   "execution_count": 9,
   "metadata": {},
   "outputs": [],
   "source": [
    "node_counts = data_redux['Source Name'].value_counts() + data_redux['Target Name'].value_counts()"
   ]
  },
  {
   "cell_type": "code",
   "execution_count": 10,
   "metadata": {},
   "outputs": [
    {
     "data": {
      "text/plain": [
       "11819"
      ]
     },
     "execution_count": 10,
     "metadata": {},
     "output_type": "execute_result"
    }
   ],
   "source": [
    "node_entities = node_counts[node_counts >= 5].index.tolist()\n",
    "len(node_entities)"
   ]
  },
  {
   "cell_type": "code",
   "execution_count": 11,
   "metadata": {},
   "outputs": [],
   "source": [
    "data_redux = data_redux[(data_redux['Source Name'].isin(node_entities)) & (data_redux['Target Name'].isin(node_entities))]"
   ]
  },
  {
   "cell_type": "code",
   "execution_count": 12,
   "metadata": {},
   "outputs": [
    {
     "name": "stdout",
     "output_type": "stream",
     "text": [
      "<class 'pandas.core.frame.DataFrame'>\n",
      "Index: 950359 entries, 36615529 to 37764068\n",
      "Data columns (total 21 columns):\n",
      " #   Column           Non-Null Count   Dtype         \n",
      "---  ------           --------------   -----         \n",
      " 0   Event Date       950359 non-null  datetime64[ns]\n",
      " 1   Source Name      950359 non-null  object        \n",
      " 2   Source Sectors   686161 non-null  object        \n",
      " 3   Source Country   909074 non-null  object        \n",
      " 4   Source Type      950359 non-null  object        \n",
      " 5   Event Text       950359 non-null  object        \n",
      " 6   CAMEO Code       950359 non-null  int64         \n",
      " 7   Intensity        950359 non-null  float64       \n",
      " 8   Target Name      950359 non-null  object        \n",
      " 9   Target Sectors   577849 non-null  object        \n",
      " 10  Target Country   907127 non-null  object        \n",
      " 11  Target Type      950359 non-null  object        \n",
      " 12  Story ID         950359 non-null  int64         \n",
      " 13  Sentence Number  950359 non-null  int64         \n",
      " 14  Publisher        950359 non-null  object        \n",
      " 15  City             643528 non-null  object        \n",
      " 16  District         151008 non-null  object        \n",
      " 17  Province         711140 non-null  object        \n",
      " 18  Country          950285 non-null  object        \n",
      " 19  Latitude         950286 non-null  float64       \n",
      " 20  Longitude        950286 non-null  float64       \n",
      "dtypes: datetime64[ns](1), float64(3), int64(3), object(14)\n",
      "memory usage: 159.5+ MB\n"
     ]
    }
   ],
   "source": [
    "data_redux.info()"
   ]
  },
  {
   "cell_type": "code",
   "execution_count": 13,
   "metadata": {},
   "outputs": [],
   "source": [
    "data_redux.to_csv('icews_redux.csv', header=True, index=True)"
   ]
  },
  {
   "cell_type": "code",
   "execution_count": 16,
   "metadata": {},
   "outputs": [
    {
     "name": "stdout",
     "output_type": "stream",
     "text": [
      "11814\n"
     ]
    }
   ],
   "source": [
    "entities = list(set(data_redux['Source Name'].unique()) | set(data_redux['Target Name'].unique()))\n",
    "entities.sort()\n",
    "print(len(entities))"
   ]
  },
  {
   "cell_type": "code",
   "execution_count": 17,
   "metadata": {},
   "outputs": [],
   "source": [
    "entity_map = {name.strip(): i for i, name in enumerate(entities)}"
   ]
  },
  {
   "cell_type": "code",
   "execution_count": 18,
   "metadata": {},
   "outputs": [],
   "source": [
    "with open('entity_map.json', 'w') as f:\n",
    "    json.dump(entity_map, f, indent=2)"
   ]
  },
  {
   "cell_type": "code",
   "execution_count": 17,
   "metadata": {},
   "outputs": [],
   "source": [
    "with open('entity_map.json') as f:\n",
    "    entity_map = json.load(f)"
   ]
  },
  {
   "cell_type": "code",
   "execution_count": 19,
   "metadata": {},
   "outputs": [],
   "source": [
    "def get_sectors(x):\n",
    "    if pd.notna(x):\n",
    "        return x.split(',')\n",
    "    else:\n",
    "        return None"
   ]
  },
  {
   "cell_type": "code",
   "execution_count": 20,
   "metadata": {},
   "outputs": [],
   "source": [
    "source_types = data_redux['Source Sectors'].apply(get_sectors).tolist()\n",
    "target_types = data_redux['Target Sectors'].apply(get_sectors).tolist()"
   ]
  },
  {
   "cell_type": "code",
   "execution_count": 21,
   "metadata": {},
   "outputs": [],
   "source": [
    "source_types = set(\n",
    "    v.strip()\n",
    "    for vals in source_types if vals is not None\n",
    "    for v in vals\n",
    ")\n",
    "\n",
    "target_types = set(\n",
    "    v.strip()\n",
    "    for vals in target_types if vals is not None\n",
    "    for v in vals\n",
    ")\n",
    "\n",
    "sector_types = source_types | target_types"
   ]
  },
  {
   "cell_type": "code",
   "execution_count": 23,
   "metadata": {},
   "outputs": [
    {
     "data": {
      "text/plain": [
       "250"
      ]
     },
     "execution_count": 23,
     "metadata": {},
     "output_type": "execute_result"
    }
   ],
   "source": [
    "len(sector_types)"
   ]
  },
  {
   "cell_type": "code",
   "execution_count": 24,
   "metadata": {},
   "outputs": [
    {
     "data": {
      "text/plain": [
       "{'(National) Major Party',\n",
       " '(National) Minor Party',\n",
       " 'Afar',\n",
       " 'Afro-American',\n",
       " 'Afro-Caribbean',\n",
       " 'Agricultural',\n",
       " 'Agricultural NGOs',\n",
       " 'Agriculture / Fishing / Forestry Ministry',\n",
       " 'Air Force',\n",
       " 'Arab',\n",
       " 'Army',\n",
       " 'Army Special Forces',\n",
       " 'Atheist',\n",
       " 'Aymara',\n",
       " 'Banned Parties',\n",
       " 'Bantu',\n",
       " 'Buddhist',\n",
       " 'Business',\n",
       " 'Business IGOs',\n",
       " 'Business NGOs',\n",
       " 'Cabinet',\n",
       " 'Catholic',\n",
       " 'Center Left',\n",
       " 'Center Right',\n",
       " 'Central-East',\n",
       " 'Centrist',\n",
       " 'Charity IGOs',\n",
       " 'Charity NGOs',\n",
       " 'Chechen',\n",
       " 'Christian',\n",
       " 'Coast Guard',\n",
       " 'Communist',\n",
       " 'Consulting / Financial Services Business',\n",
       " 'Consumer Goods Business',\n",
       " 'Consumer Services Business',\n",
       " 'Coptic',\n",
       " 'Criminals / Gangs',\n",
       " 'Defense / Security Business',\n",
       " 'Defense / Security Ministry',\n",
       " 'Development IGOs',\n",
       " 'Development NGOs',\n",
       " 'Disaster Ministry',\n",
       " 'Dissident',\n",
       " 'Drugs Ministry',\n",
       " 'Druze',\n",
       " 'Durable Goods Business',\n",
       " 'East-Coastal',\n",
       " 'Education',\n",
       " 'Education IGOs',\n",
       " 'Education Ministry',\n",
       " 'Education NGOs',\n",
       " 'Elections Ministry',\n",
       " 'Elite',\n",
       " 'Energy Ministry',\n",
       " 'Entertainment',\n",
       " 'Environment IGOs',\n",
       " 'Environment Ministry',\n",
       " 'Environment NGOs',\n",
       " 'Ethnic NGOs',\n",
       " 'Executive',\n",
       " 'Executive Office',\n",
       " 'Exiles',\n",
       " 'Far Left',\n",
       " 'Far Right',\n",
       " 'Finance / Economy / Commerce / Trade Ministry',\n",
       " 'Food Ministry',\n",
       " 'Foreign Ministry',\n",
       " 'Fulani / Fulbe',\n",
       " 'Fundamentalist',\n",
       " 'General Population / Civilian / Social',\n",
       " 'Gikuyu-Kamba',\n",
       " 'Global',\n",
       " 'Global Agricultural IGOs',\n",
       " 'Global Defense / Security IGOs',\n",
       " 'Global Development IGOs',\n",
       " 'Global Diplomatic IGOs',\n",
       " 'Global Economic/Financial/Trade IGOs',\n",
       " 'Global Energy IGOs',\n",
       " 'Global Health IGOs',\n",
       " 'Global Human Rights IGOs',\n",
       " 'Global Information / Communication / Transparency IGOs',\n",
       " 'Global Law / Justice / Judicial IGOs',\n",
       " 'Global Refugees IGOs',\n",
       " 'Government',\n",
       " 'Government Major Party (In Government)',\n",
       " 'Government Religious',\n",
       " 'Gypsy',\n",
       " 'Health Ministry',\n",
       " 'Heavy Industrial / Chemical Business',\n",
       " 'Heavy Industrial / Chemical MNCs',\n",
       " 'Hindi',\n",
       " 'Hindu',\n",
       " 'Housing / Construction Ministry',\n",
       " 'Human Rights IGOs',\n",
       " 'Human Rights Ministry',\n",
       " 'Human Rights NGOs',\n",
       " 'Hungarian',\n",
       " 'Hutu',\n",
       " 'Ideological',\n",
       " 'Igbo',\n",
       " 'Ijaw',\n",
       " 'Industrial / Textiles / Mining Ministry',\n",
       " 'Information / Communication / Transparency IGOs',\n",
       " 'Information / Communication / Transparency Ministry',\n",
       " 'Information / Communication / Transparency NGOs',\n",
       " 'Insurgents',\n",
       " 'Intelligence Ministry',\n",
       " 'Interior / Home Ministry',\n",
       " 'International Criminals / Gangs',\n",
       " 'International Dissident',\n",
       " 'International Ethnic',\n",
       " 'International Government Organization',\n",
       " 'International Insurgents',\n",
       " 'International Radicals / Extremists / Fundamentalists',\n",
       " 'International Religious',\n",
       " 'International Terrorists',\n",
       " 'Jewish',\n",
       " 'Jews',\n",
       " 'Judicial',\n",
       " 'Justice / Law Ministry',\n",
       " 'Kashmiri',\n",
       " 'Kru',\n",
       " 'Kurd (Ethnic Group)',\n",
       " 'Labor',\n",
       " 'Labor Ministry',\n",
       " 'Labor NGOs',\n",
       " 'Legal',\n",
       " 'Legal NGOs',\n",
       " 'Legislative / Parliamentary',\n",
       " 'Libertarian',\n",
       " 'Local',\n",
       " 'Lower House',\n",
       " 'Management / Budget / Planning / Organization Ministry',\n",
       " 'Mande',\n",
       " 'Marines',\n",
       " 'Maronite',\n",
       " 'Media',\n",
       " 'Medical / Health',\n",
       " 'Medical / Health / Pharmeceutical Business',\n",
       " 'Medical / Health NGOs',\n",
       " 'Military',\n",
       " 'Military / Tribunal',\n",
       " 'Military Intelligence',\n",
       " 'Multinational Corporation',\n",
       " 'Municipal',\n",
       " 'Municipal Divisions',\n",
       " 'Municipal Party',\n",
       " 'Muslim',\n",
       " 'NGO Ministry',\n",
       " 'National / Border Divisions',\n",
       " 'National / Supreme Court',\n",
       " 'National Ethnic',\n",
       " 'National Ethnic Majority',\n",
       " 'National Ethnic Minority',\n",
       " 'National Religious',\n",
       " 'Nationalist',\n",
       " 'Navy',\n",
       " 'Navy Mechanized (Ships',\n",
       " 'News',\n",
       " 'Nilotic',\n",
       " 'Nongovernmental Organization (International)',\n",
       " 'Nongovernmental Organizations / Activists',\n",
       " 'North American Indigenous',\n",
       " 'Nubian',\n",
       " 'Online News',\n",
       " 'Opposition Major Party (Out Of Government)',\n",
       " 'Opposition Minor Party (Out Of Government)',\n",
       " 'Organized Violent',\n",
       " 'Oromo',\n",
       " 'Orthodox',\n",
       " 'Other Central American Indigenous',\n",
       " 'Other Sub-Saharan African',\n",
       " 'Palestinian',\n",
       " 'Part',\n",
       " 'Parties',\n",
       " 'Pashtun',\n",
       " 'Planes)',\n",
       " 'Police',\n",
       " 'Post / Tecoms',\n",
       " 'Post / Tecoms Ministry',\n",
       " 'Print Entertainment',\n",
       " 'Print News',\n",
       " 'Protestant',\n",
       " 'Protestors / Popular Opposition / Mobs',\n",
       " 'Provincial',\n",
       " 'Provincial Court',\n",
       " 'Provincial Divisions',\n",
       " 'Provincial Party',\n",
       " 'Quechua',\n",
       " 'Radicals / Extremists / Fundamentalists',\n",
       " 'Radio Entertainment',\n",
       " 'Radio News',\n",
       " 'Rebel',\n",
       " 'Refugees / Displaced',\n",
       " 'Refugees IGOs',\n",
       " 'Regional',\n",
       " 'Regional Defense / Security IGOs',\n",
       " 'Regional Development IGOs',\n",
       " 'Regional Diplomatic IGOs',\n",
       " 'Regional Economic/Financial/Trade IGOs',\n",
       " 'Regional Environment IGOs',\n",
       " 'Regional Human Rights IGOs',\n",
       " 'Regional Law / Justice / Judicial IGOs',\n",
       " 'Religious Majority',\n",
       " 'Religious Minority',\n",
       " 'Research And Design Wings',\n",
       " 'Science / Tech / Knowledge / Innovation Business',\n",
       " 'Science / Tech / Knowledge / Innovation MNCs',\n",
       " 'Science / Tech / Knowledge / Innovation Ministry',\n",
       " 'Science / Tech Ministry',\n",
       " 'Secular',\n",
       " 'Separatists',\n",
       " 'Serb (Ethnic Group)',\n",
       " 'Shia',\n",
       " 'Shinto',\n",
       " 'Sikh',\n",
       " 'Social',\n",
       " 'Somali',\n",
       " 'Sotho-Tswana',\n",
       " 'South American Indigenous',\n",
       " 'State Media',\n",
       " 'State Owned Enterprises',\n",
       " 'State-Owned Consulting / Financial Services',\n",
       " 'State-Owned Defense / Security',\n",
       " 'State-Owned Heavy Industrial / Chemical',\n",
       " 'State-Owned Medical / Health / Pharmeceutical',\n",
       " 'State-Owned Science / Tech / Knowledge / Innovation',\n",
       " 'State-Owned Transportation',\n",
       " 'State-Owned Utilities',\n",
       " 'Sudan',\n",
       " 'Sunni',\n",
       " 'Tajik',\n",
       " 'Tamil',\n",
       " 'Tanks',\n",
       " 'Television Entertainment',\n",
       " 'Television News',\n",
       " 'Tourism Ministry',\n",
       " 'Transportation Business',\n",
       " 'Transportation Ministry',\n",
       " 'Turk (Ethnic Group)',\n",
       " 'Tutsi',\n",
       " 'Unicameral',\n",
       " 'Unidentified Forces',\n",
       " 'Upper House',\n",
       " 'Utilities Business',\n",
       " 'Uyghur',\n",
       " 'Uzbek',\n",
       " 'Water Ministry',\n",
       " 'Women / Children / Social / Welfare / Development / Religion Ministry',\n",
       " 'Yoruba'}"
      ]
     },
     "execution_count": 24,
     "metadata": {},
     "output_type": "execute_result"
    }
   ],
   "source": [
    "sector_types"
   ]
  },
  {
   "cell_type": "code",
   "execution_count": 25,
   "metadata": {},
   "outputs": [],
   "source": [
    "def make_node_feat_set(x):\n",
    "    if pd.notna(x):\n",
    "        return ','.join(x)"
   ]
  },
  {
   "cell_type": "code",
   "execution_count": 26,
   "metadata": {},
   "outputs": [],
   "source": [
    "source_feats = data_redux.groupby('Source Name')['Source Sectors'].agg(lambda x: set(e for l in x if not pd.isna(l) for e in l.split(',')))\n",
    "target_feats = data_redux.groupby('Target Name')['Target Sectors'].agg(lambda x: set(e for l in x if not pd.isna(l) for e in l.split(',')))"
   ]
  },
  {
   "cell_type": "code",
   "execution_count": 27,
   "metadata": {},
   "outputs": [
    {
     "data": {
      "text/plain": [
       "Source Name\n",
       "10 Downing Street                    {Executive, Government, Executive Office}\n",
       "A Just Russia Party          {(National) Minor Party, Parties, Ideological,...\n",
       "A.K. Antony                  {Executive, Elite, Government, Defense / Secur...\n",
       "A.K. Sharma                                               {Government, Police}\n",
       "A.P. Sharma                  {Executive, Elite, Finance / Economy / Commerc...\n",
       "                                                   ...                        \n",
       "Zuzana ─îaputov├í                    {Executive, Government, Executive Office}\n",
       "al-Aqsa Martyrs' Brigades                       {Dissident, Organized Violent}\n",
       "Ã“scar Arias SÃ¡nchez        {(National) Major Party, Elite, Ideological, C...\n",
       "Ã“scar IvÃ¡n Zuluaga         {(National) Major Party, Government Major Part...\n",
       "Ã‰douard Philippe             {Executive, Elite, Executive Office, Government}\n",
       "Name: Source Sectors, Length: 11731, dtype: object"
      ]
     },
     "execution_count": 27,
     "metadata": {},
     "output_type": "execute_result"
    }
   ],
   "source": [
    "source_feats"
   ]
  },
  {
   "cell_type": "code",
   "execution_count": 28,
   "metadata": {},
   "outputs": [
    {
     "data": {
      "text/plain": [
       "Target Name\n",
       "10 Downing Street                    {Executive, Government, Executive Office}\n",
       "A Just Russia Party          {(National) Minor Party, Parties, Ideological,...\n",
       "A.K. Antony                  {Executive, Elite, Government, Defense / Secur...\n",
       "A.K. Sharma                                               {Government, Police}\n",
       "A.P. Sharma                  {Executive, Elite, Finance / Economy / Commerc...\n",
       "                                                   ...                        \n",
       "Zuzana ─îaputov├í                    {Executive, Government, Executive Office}\n",
       "al-Aqsa Martyrs' Brigades                       {Dissident, Organized Violent}\n",
       "Ã“scar Arias SÃ¡nchez        {(National) Major Party, Elite, Ideological, C...\n",
       "Ã“scar IvÃ¡n Zuluaga         {(National) Major Party, Government Major Part...\n",
       "Ã‰douard Philippe             {Executive, Elite, Executive Office, Government}\n",
       "Name: Target Sectors, Length: 11727, dtype: object"
      ]
     },
     "execution_count": 28,
     "metadata": {},
     "output_type": "execute_result"
    }
   ],
   "source": [
    "target_feats"
   ]
  },
  {
   "cell_type": "code",
   "execution_count": 29,
   "metadata": {},
   "outputs": [],
   "source": [
    "node_feats = pd.merge(source_feats, target_feats, how='outer', left_index=True, right_index=True)"
   ]
  },
  {
   "cell_type": "code",
   "execution_count": 30,
   "metadata": {},
   "outputs": [],
   "source": [
    "def merge_sets(x):\n",
    "    source = x['Source Sectors']\n",
    "    target = x['Target Sectors']\n",
    "    if not pd.isna(source) and not pd.isna(target):\n",
    "        return source | target\n",
    "    elif pd.isna(target):\n",
    "        return source\n",
    "    elif pd.isna(source):\n",
    "        return target"
   ]
  },
  {
   "cell_type": "code",
   "execution_count": 31,
   "metadata": {},
   "outputs": [],
   "source": [
    "node_feats['Sectors'] = node_feats.apply(merge_sets, axis=1)"
   ]
  },
  {
   "cell_type": "code",
   "execution_count": 32,
   "metadata": {},
   "outputs": [],
   "source": [
    "node_feats.drop(columns=['Source Sectors', 'Target Sectors'], inplace=True)"
   ]
  },
  {
   "cell_type": "code",
   "execution_count": 33,
   "metadata": {},
   "outputs": [
    {
     "data": {
      "text/html": [
       "<div>\n",
       "<style scoped>\n",
       "    .dataframe tbody tr th:only-of-type {\n",
       "        vertical-align: middle;\n",
       "    }\n",
       "\n",
       "    .dataframe tbody tr th {\n",
       "        vertical-align: top;\n",
       "    }\n",
       "\n",
       "    .dataframe thead th {\n",
       "        text-align: right;\n",
       "    }\n",
       "</style>\n",
       "<table border=\"1\" class=\"dataframe\">\n",
       "  <thead>\n",
       "    <tr style=\"text-align: right;\">\n",
       "      <th></th>\n",
       "      <th>Sectors</th>\n",
       "    </tr>\n",
       "  </thead>\n",
       "  <tbody>\n",
       "    <tr>\n",
       "      <th>10 Downing Street</th>\n",
       "      <td>{Executive, Government, Executive Office}</td>\n",
       "    </tr>\n",
       "    <tr>\n",
       "      <th>A Just Russia Party</th>\n",
       "      <td>{(National) Minor Party, Ideological, Center L...</td>\n",
       "    </tr>\n",
       "    <tr>\n",
       "      <th>A.K. Antony</th>\n",
       "      <td>{Executive, Defense / Security Ministry, Elite...</td>\n",
       "    </tr>\n",
       "    <tr>\n",
       "      <th>A.K. Sharma</th>\n",
       "      <td>{Government, Police}</td>\n",
       "    </tr>\n",
       "    <tr>\n",
       "      <th>A.P. Sharma</th>\n",
       "      <td>{Executive, Elite, Finance / Economy / Commerc...</td>\n",
       "    </tr>\n",
       "    <tr>\n",
       "      <th>...</th>\n",
       "      <td>...</td>\n",
       "    </tr>\n",
       "    <tr>\n",
       "      <th>Zuzana ─îaputov├í</th>\n",
       "      <td>{Executive, Government, Executive Office}</td>\n",
       "    </tr>\n",
       "    <tr>\n",
       "      <th>al-Aqsa Martyrs' Brigades</th>\n",
       "      <td>{Dissident, Organized Violent}</td>\n",
       "    </tr>\n",
       "    <tr>\n",
       "      <th>Ã“scar Arias SÃ¡nchez</th>\n",
       "      <td>{(National) Major Party, Elite, Ideological, C...</td>\n",
       "    </tr>\n",
       "    <tr>\n",
       "      <th>Ã“scar IvÃ¡n Zuluaga</th>\n",
       "      <td>{(National) Major Party, Government Major Part...</td>\n",
       "    </tr>\n",
       "    <tr>\n",
       "      <th>Ã‰douard Philippe</th>\n",
       "      <td>{Executive, Elite, Government, Executive Office}</td>\n",
       "    </tr>\n",
       "  </tbody>\n",
       "</table>\n",
       "<p>11814 rows × 1 columns</p>\n",
       "</div>"
      ],
      "text/plain": [
       "                                                                     Sectors\n",
       "10 Downing Street                  {Executive, Government, Executive Office}\n",
       "A Just Russia Party        {(National) Minor Party, Ideological, Center L...\n",
       "A.K. Antony                {Executive, Defense / Security Ministry, Elite...\n",
       "A.K. Sharma                                             {Government, Police}\n",
       "A.P. Sharma                {Executive, Elite, Finance / Economy / Commerc...\n",
       "...                                                                      ...\n",
       "Zuzana ─îaputov├í                  {Executive, Government, Executive Office}\n",
       "al-Aqsa Martyrs' Brigades                     {Dissident, Organized Violent}\n",
       "Ã“scar Arias SÃ¡nchez      {(National) Major Party, Elite, Ideological, C...\n",
       "Ã“scar IvÃ¡n Zuluaga       {(National) Major Party, Government Major Part...\n",
       "Ã‰douard Philippe           {Executive, Elite, Government, Executive Office}\n",
       "\n",
       "[11814 rows x 1 columns]"
      ]
     },
     "execution_count": 33,
     "metadata": {},
     "output_type": "execute_result"
    }
   ],
   "source": [
    "node_feats"
   ]
  },
  {
   "cell_type": "code",
   "execution_count": 35,
   "metadata": {},
   "outputs": [],
   "source": [
    "node_feats_encoded = node_feats['Sectors'].str.join(sep='*').str.get_dummies(sep='*')"
   ]
  },
  {
   "cell_type": "code",
   "execution_count": 36,
   "metadata": {},
   "outputs": [
    {
     "data": {
      "text/html": [
       "<div>\n",
       "<style scoped>\n",
       "    .dataframe tbody tr th:only-of-type {\n",
       "        vertical-align: middle;\n",
       "    }\n",
       "\n",
       "    .dataframe tbody tr th {\n",
       "        vertical-align: top;\n",
       "    }\n",
       "\n",
       "    .dataframe thead th {\n",
       "        text-align: right;\n",
       "    }\n",
       "</style>\n",
       "<table border=\"1\" class=\"dataframe\">\n",
       "  <thead>\n",
       "    <tr style=\"text-align: right;\">\n",
       "      <th></th>\n",
       "      <th>Central-East</th>\n",
       "      <th>East-Coastal</th>\n",
       "      <th>Gikuyu-Kamba</th>\n",
       "      <th>Planes)</th>\n",
       "      <th>Sotho-Tswana</th>\n",
       "      <th>Sudan</th>\n",
       "      <th>Tanks</th>\n",
       "      <th>(National) Major Party</th>\n",
       "      <th>(National) Minor Party</th>\n",
       "      <th>Afar</th>\n",
       "      <th>...</th>\n",
       "      <th>Tutsi</th>\n",
       "      <th>Unicameral</th>\n",
       "      <th>Unidentified Forces</th>\n",
       "      <th>Upper House</th>\n",
       "      <th>Utilities Business</th>\n",
       "      <th>Uyghur</th>\n",
       "      <th>Uzbek</th>\n",
       "      <th>Water Ministry</th>\n",
       "      <th>Women / Children / Social / Welfare / Development / Religion Ministry</th>\n",
       "      <th>Yoruba</th>\n",
       "    </tr>\n",
       "  </thead>\n",
       "  <tbody>\n",
       "    <tr>\n",
       "      <th>10 Downing Street</th>\n",
       "      <td>0</td>\n",
       "      <td>0</td>\n",
       "      <td>0</td>\n",
       "      <td>0</td>\n",
       "      <td>0</td>\n",
       "      <td>0</td>\n",
       "      <td>0</td>\n",
       "      <td>0</td>\n",
       "      <td>0</td>\n",
       "      <td>0</td>\n",
       "      <td>...</td>\n",
       "      <td>0</td>\n",
       "      <td>0</td>\n",
       "      <td>0</td>\n",
       "      <td>0</td>\n",
       "      <td>0</td>\n",
       "      <td>0</td>\n",
       "      <td>0</td>\n",
       "      <td>0</td>\n",
       "      <td>0</td>\n",
       "      <td>0</td>\n",
       "    </tr>\n",
       "    <tr>\n",
       "      <th>A Just Russia Party</th>\n",
       "      <td>0</td>\n",
       "      <td>0</td>\n",
       "      <td>0</td>\n",
       "      <td>0</td>\n",
       "      <td>0</td>\n",
       "      <td>0</td>\n",
       "      <td>0</td>\n",
       "      <td>0</td>\n",
       "      <td>1</td>\n",
       "      <td>0</td>\n",
       "      <td>...</td>\n",
       "      <td>0</td>\n",
       "      <td>0</td>\n",
       "      <td>0</td>\n",
       "      <td>0</td>\n",
       "      <td>0</td>\n",
       "      <td>0</td>\n",
       "      <td>0</td>\n",
       "      <td>0</td>\n",
       "      <td>0</td>\n",
       "      <td>0</td>\n",
       "    </tr>\n",
       "    <tr>\n",
       "      <th>A.K. Antony</th>\n",
       "      <td>0</td>\n",
       "      <td>0</td>\n",
       "      <td>0</td>\n",
       "      <td>0</td>\n",
       "      <td>0</td>\n",
       "      <td>0</td>\n",
       "      <td>0</td>\n",
       "      <td>0</td>\n",
       "      <td>0</td>\n",
       "      <td>0</td>\n",
       "      <td>...</td>\n",
       "      <td>0</td>\n",
       "      <td>0</td>\n",
       "      <td>0</td>\n",
       "      <td>0</td>\n",
       "      <td>0</td>\n",
       "      <td>0</td>\n",
       "      <td>0</td>\n",
       "      <td>0</td>\n",
       "      <td>0</td>\n",
       "      <td>0</td>\n",
       "    </tr>\n",
       "    <tr>\n",
       "      <th>A.K. Sharma</th>\n",
       "      <td>0</td>\n",
       "      <td>0</td>\n",
       "      <td>0</td>\n",
       "      <td>0</td>\n",
       "      <td>0</td>\n",
       "      <td>0</td>\n",
       "      <td>0</td>\n",
       "      <td>0</td>\n",
       "      <td>0</td>\n",
       "      <td>0</td>\n",
       "      <td>...</td>\n",
       "      <td>0</td>\n",
       "      <td>0</td>\n",
       "      <td>0</td>\n",
       "      <td>0</td>\n",
       "      <td>0</td>\n",
       "      <td>0</td>\n",
       "      <td>0</td>\n",
       "      <td>0</td>\n",
       "      <td>0</td>\n",
       "      <td>0</td>\n",
       "    </tr>\n",
       "    <tr>\n",
       "      <th>A.P. Sharma</th>\n",
       "      <td>0</td>\n",
       "      <td>0</td>\n",
       "      <td>0</td>\n",
       "      <td>0</td>\n",
       "      <td>0</td>\n",
       "      <td>0</td>\n",
       "      <td>0</td>\n",
       "      <td>0</td>\n",
       "      <td>0</td>\n",
       "      <td>0</td>\n",
       "      <td>...</td>\n",
       "      <td>0</td>\n",
       "      <td>0</td>\n",
       "      <td>0</td>\n",
       "      <td>0</td>\n",
       "      <td>0</td>\n",
       "      <td>0</td>\n",
       "      <td>0</td>\n",
       "      <td>0</td>\n",
       "      <td>0</td>\n",
       "      <td>0</td>\n",
       "    </tr>\n",
       "  </tbody>\n",
       "</table>\n",
       "<p>5 rows × 250 columns</p>\n",
       "</div>"
      ],
      "text/plain": [
       "                      Central-East   East-Coastal   Gikuyu-Kamba   Planes)  \\\n",
       "10 Downing Street                0              0              0         0   \n",
       "A Just Russia Party              0              0              0         0   \n",
       "A.K. Antony                      0              0              0         0   \n",
       "A.K. Sharma                      0              0              0         0   \n",
       "A.P. Sharma                      0              0              0         0   \n",
       "\n",
       "                      Sotho-Tswana   Sudan   Tanks  (National) Major Party  \\\n",
       "10 Downing Street                0       0       0                       0   \n",
       "A Just Russia Party              0       0       0                       0   \n",
       "A.K. Antony                      0       0       0                       0   \n",
       "A.K. Sharma                      0       0       0                       0   \n",
       "A.P. Sharma                      0       0       0                       0   \n",
       "\n",
       "                     (National) Minor Party  Afar  ...  Tutsi  Unicameral  \\\n",
       "10 Downing Street                         0     0  ...      0           0   \n",
       "A Just Russia Party                       1     0  ...      0           0   \n",
       "A.K. Antony                               0     0  ...      0           0   \n",
       "A.K. Sharma                               0     0  ...      0           0   \n",
       "A.P. Sharma                               0     0  ...      0           0   \n",
       "\n",
       "                     Unidentified Forces  Upper House  Utilities Business  \\\n",
       "10 Downing Street                      0            0                   0   \n",
       "A Just Russia Party                    0            0                   0   \n",
       "A.K. Antony                            0            0                   0   \n",
       "A.K. Sharma                            0            0                   0   \n",
       "A.P. Sharma                            0            0                   0   \n",
       "\n",
       "                     Uyghur  Uzbek  Water Ministry  \\\n",
       "10 Downing Street         0      0               0   \n",
       "A Just Russia Party       0      0               0   \n",
       "A.K. Antony               0      0               0   \n",
       "A.K. Sharma               0      0               0   \n",
       "A.P. Sharma               0      0               0   \n",
       "\n",
       "                     Women / Children / Social / Welfare / Development / Religion Ministry  \\\n",
       "10 Downing Street                                                    0                       \n",
       "A Just Russia Party                                                  0                       \n",
       "A.K. Antony                                                          0                       \n",
       "A.K. Sharma                                                          0                       \n",
       "A.P. Sharma                                                          0                       \n",
       "\n",
       "                     Yoruba  \n",
       "10 Downing Street         0  \n",
       "A Just Russia Party       0  \n",
       "A.K. Antony               0  \n",
       "A.K. Sharma               0  \n",
       "A.P. Sharma               0  \n",
       "\n",
       "[5 rows x 250 columns]"
      ]
     },
     "execution_count": 36,
     "metadata": {},
     "output_type": "execute_result"
    }
   ],
   "source": [
    "node_feats_encoded.head()"
   ]
  },
  {
   "cell_type": "code",
   "execution_count": 219,
   "metadata": {},
   "outputs": [],
   "source": [
    "node_feats_encoded.to_csv('node_feats.csv', header=True, index=True)"
   ]
  },
  {
   "cell_type": "code",
   "execution_count": 62,
   "metadata": {},
   "outputs": [],
   "source": [
    "node_feat_dict = {}\n",
    "count = 0\n",
    "for i, row in node_feats_encoded.iterrows():\n",
    "    node_feat_dict[entity_map[i.strip()]] = row.to_numpy()"
   ]
  },
  {
   "cell_type": "code",
   "execution_count": 64,
   "metadata": {},
   "outputs": [
    {
     "data": {
      "text/plain": [
       "11814"
      ]
     },
     "execution_count": 64,
     "metadata": {},
     "output_type": "execute_result"
    }
   ],
   "source": [
    "len(node_feat_dict)"
   ]
  },
  {
   "cell_type": "code",
   "execution_count": 37,
   "metadata": {},
   "outputs": [
    {
     "data": {
      "text/plain": [
       "11814"
      ]
     },
     "execution_count": 37,
     "metadata": {},
     "output_type": "execute_result"
    }
   ],
   "source": [
    "len(node_feats)"
   ]
  },
  {
   "cell_type": "code",
   "execution_count": 14,
   "metadata": {},
   "outputs": [],
   "source": [
    "edge_data = pd.DataFrame()"
   ]
  },
  {
   "cell_type": "code",
   "execution_count": 18,
   "metadata": {},
   "outputs": [],
   "source": [
    "edge_data['date'] = data_redux['Event Date']\n",
    "edge_data['timestamp'] = data_redux['Event Date'].astype(int)\n",
    "edge_data['source_name'] = data_redux['Source Name'].apply(lambda x: x.strip())\n",
    "edge_data['source_node'] = data_redux['Source Name'].apply(lambda x: entity_map[x.strip()])\n",
    "edge_data['source_node_type'] = data_redux['Source Type']\n",
    "\n",
    "edge_data['target_name'] = data_redux['Target Name'].apply(lambda x: x.strip())\n",
    "edge_data['target_node'] = data_redux['Target Name'].apply(lambda x: entity_map[x.strip()])\n",
    "edge_data['target_node_type'] = data_redux['Target Type']\n",
    "edge_data['edge_type'] = data_redux['Event Text']\n",
    "edge_data['intensity'] = data_redux['Intensity']"
   ]
  },
  {
   "cell_type": "code",
   "execution_count": 91,
   "metadata": {},
   "outputs": [
    {
     "data": {
      "text/html": [
       "<div>\n",
       "<style scoped>\n",
       "    .dataframe tbody tr th:only-of-type {\n",
       "        vertical-align: middle;\n",
       "    }\n",
       "\n",
       "    .dataframe tbody tr th {\n",
       "        vertical-align: top;\n",
       "    }\n",
       "\n",
       "    .dataframe thead th {\n",
       "        text-align: right;\n",
       "    }\n",
       "</style>\n",
       "<table border=\"1\" class=\"dataframe\">\n",
       "  <thead>\n",
       "    <tr style=\"text-align: right;\">\n",
       "      <th></th>\n",
       "      <th>date</th>\n",
       "      <th>timestamp</th>\n",
       "      <th>source_name</th>\n",
       "      <th>source_node</th>\n",
       "      <th>source_node_type</th>\n",
       "      <th>target_name</th>\n",
       "      <th>target_node</th>\n",
       "      <th>target_node_type</th>\n",
       "      <th>edge_type</th>\n",
       "      <th>intensity</th>\n",
       "    </tr>\n",
       "    <tr>\n",
       "      <th>Event ID</th>\n",
       "      <th></th>\n",
       "      <th></th>\n",
       "      <th></th>\n",
       "      <th></th>\n",
       "      <th></th>\n",
       "      <th></th>\n",
       "      <th></th>\n",
       "      <th></th>\n",
       "      <th></th>\n",
       "      <th></th>\n",
       "    </tr>\n",
       "  </thead>\n",
       "  <tbody>\n",
       "    <tr>\n",
       "      <th>36615529</th>\n",
       "      <td>2022-01-01</td>\n",
       "      <td>1640995200000000000</td>\n",
       "      <td>South Korea</td>\n",
       "      <td>10828</td>\n",
       "      <td>Country</td>\n",
       "      <td>Government (South Korea)</td>\n",
       "      <td>4285</td>\n",
       "      <td>Other</td>\n",
       "      <td>Demand rights</td>\n",
       "      <td>-5.0</td>\n",
       "    </tr>\n",
       "    <tr>\n",
       "      <th>36615519</th>\n",
       "      <td>2022-01-01</td>\n",
       "      <td>1640995200000000000</td>\n",
       "      <td>Ministry (Indonesia)</td>\n",
       "      <td>7992</td>\n",
       "      <td>Other</td>\n",
       "      <td>Reuters</td>\n",
       "      <td>10208</td>\n",
       "      <td>Organization</td>\n",
       "      <td>Reject</td>\n",
       "      <td>-4.0</td>\n",
       "    </tr>\n",
       "    <tr>\n",
       "      <th>36615520</th>\n",
       "      <td>2022-01-01</td>\n",
       "      <td>1640995200000000000</td>\n",
       "      <td>Denis Moncada</td>\n",
       "      <td>2837</td>\n",
       "      <td>Organization</td>\n",
       "      <td>China</td>\n",
       "      <td>1773</td>\n",
       "      <td>Country</td>\n",
       "      <td>Host a visit</td>\n",
       "      <td>2.8</td>\n",
       "    </tr>\n",
       "    <tr>\n",
       "      <th>36615521</th>\n",
       "      <td>2022-01-01</td>\n",
       "      <td>1640995200000000000</td>\n",
       "      <td>Denis Moncada</td>\n",
       "      <td>2837</td>\n",
       "      <td>Organization</td>\n",
       "      <td>Foreign Affairs (China)</td>\n",
       "      <td>3870</td>\n",
       "      <td>Organization</td>\n",
       "      <td>Praise or endorse</td>\n",
       "      <td>3.4</td>\n",
       "    </tr>\n",
       "    <tr>\n",
       "      <th>36615523</th>\n",
       "      <td>2022-01-01</td>\n",
       "      <td>1640995200000000000</td>\n",
       "      <td>China</td>\n",
       "      <td>1773</td>\n",
       "      <td>Country</td>\n",
       "      <td>Denis Moncada</td>\n",
       "      <td>2837</td>\n",
       "      <td>Organization</td>\n",
       "      <td>Make a visit</td>\n",
       "      <td>1.9</td>\n",
       "    </tr>\n",
       "  </tbody>\n",
       "</table>\n",
       "</div>"
      ],
      "text/plain": [
       "               date            timestamp           source_name  source_node  \\\n",
       "Event ID                                                                      \n",
       "36615529 2022-01-01  1640995200000000000           South Korea        10828   \n",
       "36615519 2022-01-01  1640995200000000000  Ministry (Indonesia)         7992   \n",
       "36615520 2022-01-01  1640995200000000000         Denis Moncada         2837   \n",
       "36615521 2022-01-01  1640995200000000000         Denis Moncada         2837   \n",
       "36615523 2022-01-01  1640995200000000000                 China         1773   \n",
       "\n",
       "         source_node_type               target_name  target_node  \\\n",
       "Event ID                                                           \n",
       "36615529          Country  Government (South Korea)         4285   \n",
       "36615519            Other                   Reuters        10208   \n",
       "36615520     Organization                     China         1773   \n",
       "36615521     Organization   Foreign Affairs (China)         3870   \n",
       "36615523          Country             Denis Moncada         2837   \n",
       "\n",
       "         target_node_type          edge_type  intensity  \n",
       "Event ID                                                 \n",
       "36615529            Other      Demand rights       -5.0  \n",
       "36615519     Organization             Reject       -4.0  \n",
       "36615520          Country       Host a visit        2.8  \n",
       "36615521     Organization  Praise or endorse        3.4  \n",
       "36615523     Organization       Make a visit        1.9  "
      ]
     },
     "execution_count": 91,
     "metadata": {},
     "output_type": "execute_result"
    }
   ],
   "source": [
    "edge_data.head()"
   ]
  },
  {
   "cell_type": "code",
   "execution_count": 97,
   "metadata": {},
   "outputs": [
    {
     "name": "stdout",
     "output_type": "stream",
     "text": [
      "<class 'pandas.core.frame.DataFrame'>\n",
      "Index: 950359 entries, 36615529 to 37764068\n",
      "Data columns (total 10 columns):\n",
      " #   Column            Non-Null Count   Dtype         \n",
      "---  ------            --------------   -----         \n",
      " 0   date              950359 non-null  datetime64[ns]\n",
      " 1   timestamp         950359 non-null  int64         \n",
      " 2   source_name       950359 non-null  object        \n",
      " 3   source_node       950359 non-null  int64         \n",
      " 4   source_node_type  950359 non-null  object        \n",
      " 5   target_name       950359 non-null  object        \n",
      " 6   target_node       950359 non-null  int64         \n",
      " 7   target_node_type  950359 non-null  object        \n",
      " 8   edge_type         950359 non-null  object        \n",
      " 9   intensity         950359 non-null  float64       \n",
      "dtypes: datetime64[ns](1), float64(1), int64(3), object(5)\n",
      "memory usage: 112.0+ MB\n"
     ]
    }
   ],
   "source": [
    "edge_data.info()"
   ]
  },
  {
   "cell_type": "code",
   "execution_count": 94,
   "metadata": {},
   "outputs": [
    {
     "name": "stdout",
     "output_type": "stream",
     "text": [
      "2022-01-01 00:00:00\n",
      "2023-04-10 00:00:00\n"
     ]
    }
   ],
   "source": [
    "print(edge_data['date'].min())\n",
    "print(edge_data['date'].max())"
   ]
  },
  {
   "cell_type": "code",
   "execution_count": 99,
   "metadata": {},
   "outputs": [],
   "source": [
    "from datetime import datetime"
   ]
  },
  {
   "cell_type": "code",
   "execution_count": 100,
   "metadata": {},
   "outputs": [],
   "source": [
    "train_cutoff = datetime.strptime('2023-01-01', '%Y-%m-%d')\n",
    "val_cutoff = datetime.strptime('2023-02-15', '%Y-%m-%d')"
   ]
  },
  {
   "cell_type": "code",
   "execution_count": 101,
   "metadata": {},
   "outputs": [
    {
     "name": "stdout",
     "output_type": "stream",
     "text": [
      "2023-01-01 00:00:00\n",
      "2023-02-15 00:00:00\n"
     ]
    }
   ],
   "source": [
    "print(train_cutoff)\n",
    "print(val_cutoff)"
   ]
  },
  {
   "cell_type": "code",
   "execution_count": 93,
   "metadata": {},
   "outputs": [
    {
     "data": {
      "text/plain": [
       "Event ID\n",
       "36615529     True\n",
       "36615519     True\n",
       "36615520     True\n",
       "36615521     True\n",
       "36615523     True\n",
       "            ...  \n",
       "37764060    False\n",
       "37764062    False\n",
       "37764083    False\n",
       "37764075    False\n",
       "37764068    False\n",
       "Name: date, Length: 950359, dtype: bool"
      ]
     },
     "execution_count": 93,
     "metadata": {},
     "output_type": "execute_result"
    }
   ],
   "source": [
    "edge_data['date'] < '2023-01-01'"
   ]
  },
  {
   "cell_type": "code",
   "execution_count": 103,
   "metadata": {},
   "outputs": [
    {
     "name": "stderr",
     "output_type": "stream",
     "text": [
      "950359it [02:37, 6034.12it/s]\n"
     ]
    }
   ],
   "source": [
    "graph_data = defaultdict(lambda: ([], []))\n",
    "e_intensity = defaultdict(list)\n",
    "e_date = defaultdict(list)\n",
    "e_train = defaultdict(list)\n",
    "e_val = defaultdict(list)\n",
    "e_test = defaultdict(list)\n",
    "for i, row in tqdm(edge_data.iterrows()):\n",
    "    edge_schema = (dgl.NTYPE, row['edge_type'], dgl.NTYPE)\n",
    "\n",
    "    graph_data[edge_schema][0].append(row['source_node'])\n",
    "    graph_data[edge_schema][1].append(row['target_node'])\n",
    "\n",
    "    e_intensity[edge_schema].append(row['intensity'])\n",
    "    e_date[edge_schema].append(row['timestamp'])\n",
    "    if row['date'] < train_cutoff:\n",
    "        e_train[edge_schema].append(True)\n",
    "        e_val[edge_schema].append(False)\n",
    "        e_test[edge_schema].append(False)\n",
    "    elif row['date'] < val_cutoff:\n",
    "        e_train[edge_schema].append(False)\n",
    "        e_val[edge_schema].append(True)\n",
    "        e_test[edge_schema].append(False)\n",
    "    else:\n",
    "        e_train[edge_schema].append(False)\n",
    "        e_val[edge_schema].append(False)\n",
    "        e_test[edge_schema].append(True)"
   ]
  },
  {
   "cell_type": "code",
   "execution_count": 104,
   "metadata": {},
   "outputs": [],
   "source": [
    "G = dgl.heterograph(graph_data)"
   ]
  },
  {
   "cell_type": "code",
   "execution_count": 105,
   "metadata": {},
   "outputs": [],
   "source": [
    "G.ndata['feat'] = torch.FloatTensor(\n",
    "    np.array([node_feat_dict[node.item()] for node in G.nodes()])\n",
    ")"
   ]
  },
  {
   "cell_type": "code",
   "execution_count": 106,
   "metadata": {},
   "outputs": [],
   "source": [
    "e_intensity = {k: torch.FloatTensor(v) for k, v in e_intensity.items()}\n",
    "e_date = {k: torch.LongTensor(v) for k, v in e_date.items()}\n",
    "e_train = {k: torch.LongTensor(v) for k, v in e_train.items()}\n",
    "e_val = {k: torch.LongTensor(v) for k, v in e_val.items()}\n",
    "e_test = {k: torch.LongTensor(v) for k, v in e_test.items()}"
   ]
  },
  {
   "cell_type": "code",
   "execution_count": 107,
   "metadata": {},
   "outputs": [],
   "source": [
    "G.edata['intensity'] = e_intensity\n",
    "G.edata['timestamp'] = e_date\n",
    "G.edata['train_mask'] = e_train\n",
    "G.edata['val_mask'] = e_val\n",
    "G.edata['test_mask'] = e_test"
   ]
  },
  {
   "cell_type": "code",
   "execution_count": 109,
   "metadata": {},
   "outputs": [
    {
     "data": {
      "text/plain": [
       "dict_keys(['intensity', 'timestamp', 'train_mask', 'val_mask', 'test_mask'])"
      ]
     },
     "execution_count": 109,
     "metadata": {},
     "output_type": "execute_result"
    }
   ],
   "source": [
    "G.edata.keys()"
   ]
  },
  {
   "cell_type": "code",
   "execution_count": 110,
   "metadata": {},
   "outputs": [
    {
     "data": {
      "text/plain": [
       "Graph(num_nodes={'_TYPE': 7401},\n",
       "      num_edges={('_TYPE', 'Abduct, hijack, or take hostage', '_TYPE'): 207, ('_TYPE', 'Accede to demands for change in institutions, regime', '_TYPE'): 1, ('_TYPE', 'Accede to demands for change in leadership', '_TYPE'): 13, ('_TYPE', 'Accede to demands for change in policy', '_TYPE'): 14, ('_TYPE', 'Accede to demands for rights', '_TYPE'): 13, ('_TYPE', 'Accede to requests or demands for political reform', '_TYPE'): 9, ('_TYPE', 'Accuse', '_TYPE'): 2591, ('_TYPE', 'Accuse of aggression', '_TYPE'): 10, ('_TYPE', 'Accuse of crime, corruption', '_TYPE'): 97, ('_TYPE', 'Accuse of espionage, treason', '_TYPE'): 49, ('_TYPE', 'Accuse of human rights abuses', '_TYPE'): 38, ('_TYPE', 'Accuse of war crimes', '_TYPE'): 93, ('_TYPE', 'Acknowledge or claim responsibility', '_TYPE'): 74, ('_TYPE', 'Apologize', '_TYPE'): 14, ('_TYPE', 'Appeal for aid', '_TYPE'): 29, ('_TYPE', 'Appeal for change in institutions, regime', '_TYPE'): 2, ('_TYPE', 'Appeal for change in leadership', '_TYPE'): 42, ('_TYPE', 'Appeal for de-escalation of military engagement', '_TYPE'): 56, ('_TYPE', 'Appeal for diplomatic cooperation (such as policy support)', '_TYPE'): 285, ('_TYPE', 'Appeal for easing of administrative sanctions', '_TYPE'): 12, ('_TYPE', 'Appeal for easing of economic sanctions, boycott, or embargo', '_TYPE'): 5, ('_TYPE', 'Appeal for easing of political dissent', '_TYPE'): 0, ('_TYPE', 'Appeal for economic aid', '_TYPE'): 23, ('_TYPE', 'Appeal for economic cooperation', '_TYPE'): 10, ('_TYPE', 'Appeal for humanitarian aid', '_TYPE'): 19, ('_TYPE', 'Appeal for intelligence', '_TYPE'): 63, ('_TYPE', 'Appeal for judicial cooperation', '_TYPE'): 24, ('_TYPE', 'Appeal for material cooperation', '_TYPE'): 64, ('_TYPE', 'Appeal for military aid', '_TYPE'): 13, ('_TYPE', 'Appeal for military protection or peacekeeping', '_TYPE'): 0, ('_TYPE', 'Appeal for policy change', '_TYPE'): 17, ('_TYPE', 'Appeal for political reform', '_TYPE'): 5, ('_TYPE', 'Appeal for release of persons or property', '_TYPE'): 56, ('_TYPE', 'Appeal for rights', '_TYPE'): 1, ('_TYPE', 'Appeal for target to allow international involvement (non-mediation)', '_TYPE'): 0, ('_TYPE', 'Appeal to engage in or accept mediation', '_TYPE'): 33, ('_TYPE', 'Appeal to others to meet or negotiate', '_TYPE'): 41, ('_TYPE', 'Appeal to others to settle dispute', '_TYPE'): 30, ('_TYPE', 'Appeal to yield', '_TYPE'): 12, ('_TYPE', 'Arrest, detain, or charge with legal action', '_TYPE'): 5595, ('_TYPE', 'Assassinate', '_TYPE'): 31, ('_TYPE', 'Attempt to assassinate', '_TYPE'): 1, ('_TYPE', 'Ban political parties or politicians', '_TYPE'): 9, ('_TYPE', 'Bring lawsuit against', '_TYPE'): 189, ('_TYPE', 'Carry out suicide bombing', '_TYPE'): 34, ('_TYPE', 'Coerce', '_TYPE'): 79, ('_TYPE', 'Complain officially', '_TYPE'): 103, ('_TYPE', 'Conduct hunger strike', '_TYPE'): 3, ('_TYPE', 'Conduct strike or boycott', '_TYPE'): 8, ('_TYPE', 'Conduct suicide, car, or other non-military bombing', '_TYPE'): 27, ('_TYPE', 'Confiscate property', '_TYPE'): 184, ('_TYPE', 'Consider policy option', '_TYPE'): 227, ('_TYPE', 'Consult', '_TYPE'): 12112, ('_TYPE', 'Cooperate economically', '_TYPE'): 114, ('_TYPE', 'Cooperate militarily', '_TYPE'): 277, ('_TYPE', 'Criticize or denounce', '_TYPE'): 3804, ('_TYPE', 'Declare truce, ceasefire', '_TYPE'): 63, ('_TYPE', 'Decline comment', '_TYPE'): 20, ('_TYPE', 'Defend verbally', '_TYPE'): 37, ('_TYPE', 'Defy norms, law', '_TYPE'): 64, ('_TYPE', 'Demand', '_TYPE'): 1028, ('_TYPE', 'Demand change in institutions, regime', '_TYPE'): 5, ('_TYPE', 'Demand change in leadership', '_TYPE'): 68, ('_TYPE', 'Demand de-escalation of military engagement', '_TYPE'): 45, ('_TYPE', 'Demand diplomatic cooperation (such as policy support)', '_TYPE'): 58, ('_TYPE', 'Demand easing of administrative sanctions', '_TYPE'): 2, ('_TYPE', 'Demand economic aid', '_TYPE'): 11, ('_TYPE', 'Demand humanitarian aid', '_TYPE'): 2, ('_TYPE', 'Demand intelligence cooperation', '_TYPE'): 14, ('_TYPE', 'Demand judicial cooperation', '_TYPE'): 2, ('_TYPE', 'Demand material cooperation', '_TYPE'): 14, ('_TYPE', 'Demand mediation', '_TYPE'): 4, ('_TYPE', 'Demand meeting, negotiation', '_TYPE'): 34, ('_TYPE', 'Demand military aid', '_TYPE'): 1, ('_TYPE', 'Demand policy change', '_TYPE'): 2, ('_TYPE', 'Demand political reform', '_TYPE'): 1, ('_TYPE', 'Demand release of persons or property', '_TYPE'): 0, ('_TYPE', 'Demand rights', '_TYPE'): 1, ('_TYPE', 'Demand settling of dispute', '_TYPE'): 8, ('_TYPE', 'Demand that target yields', '_TYPE'): 14, ('_TYPE', 'Demobilize armed forces', '_TYPE'): 15, ('_TYPE', 'Demonstrate for leadership change', '_TYPE'): 30, ('_TYPE', 'Demonstrate for policy change', '_TYPE'): 28, ('_TYPE', 'Demonstrate military or police power', '_TYPE'): 49, ('_TYPE', 'Demonstrate or rally', '_TYPE'): 817, ('_TYPE', 'Deny responsibility', '_TYPE'): 225, ('_TYPE', 'Destroy property', '_TYPE'): 21, ('_TYPE', 'Detonate nuclear weapons', '_TYPE'): 2, ('_TYPE', 'Discuss by telephone', '_TYPE'): 472, ('_TYPE', 'Ease administrative sanctions', '_TYPE'): 120, ('_TYPE', 'Ease economic sanctions, boycott, embargo', '_TYPE'): 9, ('_TYPE', 'Ease military blockade', '_TYPE'): 7, ('_TYPE', 'Employ aerial weapons', '_TYPE'): 319, ('_TYPE', 'Engage in diplomatic cooperation', '_TYPE'): 2609, ('_TYPE', 'Engage in judicial cooperation', '_TYPE'): 32, ('_TYPE', 'Engage in mass killings', '_TYPE'): 7, ('_TYPE', 'Engage in material cooperation', '_TYPE'): 81, ('_TYPE', 'Engage in negotiation', '_TYPE'): 2278, ('_TYPE', 'Engage in symbolic act', '_TYPE'): 529, ('_TYPE', 'Engage in violent protest for leadership change', '_TYPE'): 0, ('_TYPE', 'Expel or deport individuals', '_TYPE'): 222, ('_TYPE', 'Expel or withdraw', '_TYPE'): 3, ('_TYPE', 'Expel or withdraw peacekeepers', '_TYPE'): 0, ('_TYPE', 'Express accord', '_TYPE'): 77, ('_TYPE', 'Express intent to accept mediation', '_TYPE'): 12, ('_TYPE', 'Express intent to change institutions, regime', '_TYPE'): 4, ('_TYPE', 'Express intent to change leadership', '_TYPE'): 5, ('_TYPE', 'Express intent to change policy', '_TYPE'): 9, ('_TYPE', 'Express intent to cooperate', '_TYPE'): 1297, ('_TYPE', 'Express intent to cooperate economically', '_TYPE'): 98, ('_TYPE', 'Express intent to cooperate militarily', '_TYPE'): 101, ('_TYPE', 'Express intent to cooperate on judicial matters', '_TYPE'): 23, ('_TYPE', 'Express intent to de-escalate military engagement', '_TYPE'): 24, ('_TYPE', 'Express intent to ease administrative sanctions', '_TYPE'): 9, ('_TYPE', 'Express intent to ease economic sanctions, boycott, or embargo', '_TYPE'): 2, ('_TYPE', 'Express intent to engage in diplomatic cooperation (such as policy support)', '_TYPE'): 2214, ('_TYPE', 'Express intent to engage in material cooperation', '_TYPE'): 19, ('_TYPE', 'Express intent to institute political reform', '_TYPE'): 1, ('_TYPE', 'Express intent to mediate', '_TYPE'): 8, ('_TYPE', 'Express intent to meet or negotiate', '_TYPE'): 6933, ('_TYPE', 'Express intent to provide economic aid', '_TYPE'): 120, ('_TYPE', 'Express intent to provide humanitarian aid', '_TYPE'): 143, ('_TYPE', 'Express intent to provide material aid', '_TYPE'): 138, ('_TYPE', 'Express intent to provide military aid', '_TYPE'): 173, ('_TYPE', 'Express intent to provide military protection or peacekeeping', '_TYPE'): 5, ('_TYPE', 'Express intent to release persons or property', '_TYPE'): 50, ('_TYPE', 'Express intent to settle dispute', '_TYPE'): 90, ('_TYPE', 'Express intent to yield', '_TYPE'): 11, ('_TYPE', 'Forgive', '_TYPE'): 1, ('_TYPE', 'Give ultimatum', '_TYPE'): 42, ('_TYPE', 'Grant asylum', '_TYPE'): 16, ('_TYPE', 'Grant diplomatic recognition', '_TYPE'): 241, ('_TYPE', 'Halt negotiations', '_TYPE'): 22, ('_TYPE', 'Host a visit', '_TYPE'): 8626, ('_TYPE', 'Impose administrative sanctions', '_TYPE'): 200, ('_TYPE', 'Impose blockade, restrict movement', '_TYPE'): 38, ('_TYPE', 'Impose curfew', '_TYPE'): 1, ('_TYPE', 'Impose embargo, boycott, or sanctions', '_TYPE'): 287, ('_TYPE', 'Impose restrictions on political freedoms', '_TYPE'): 62, ('_TYPE', 'Impose state of emergency or martial law', '_TYPE'): 13, ('_TYPE', 'Increase military alert status', '_TYPE'): 32, ('_TYPE', 'Increase police alert status', '_TYPE'): 20, ('_TYPE', 'Investigate', '_TYPE'): 946, ('_TYPE', 'Investigate crime, corruption', '_TYPE'): 69, ('_TYPE', 'Investigate human rights abuses', '_TYPE'): 4, ('_TYPE', 'Investigate war crimes', '_TYPE'): 5, ('_TYPE', 'Kill by physical assault', '_TYPE'): 36, ('_TYPE', 'Make a visit', '_TYPE'): 8636, ('_TYPE', 'Make an appeal or request', '_TYPE'): 4423, ('_TYPE', 'Make empathetic comment', '_TYPE'): 204, ('_TYPE', 'Make optimistic comment', '_TYPE'): 629, ('_TYPE', 'Make pessimistic comment', '_TYPE'): 651, ('_TYPE', 'Make statement', '_TYPE'): 15240, ('_TYPE', 'Mediate', '_TYPE'): 22, ('_TYPE', \"Meet at a 'third' location\", '_TYPE'): 384, ('_TYPE', 'Mobilize or increase armed forces', '_TYPE'): 194, ('_TYPE', 'Mobilize or increase police power', '_TYPE'): 51, ('_TYPE', 'Obstruct passage to demand leadership change', '_TYPE'): 2, ('_TYPE', 'Obstruct passage, block', '_TYPE'): 50, ('_TYPE', 'Occupy territory', '_TYPE'): 329, ('_TYPE', 'Physically assault', '_TYPE'): 222, ('_TYPE', 'Praise or endorse', '_TYPE'): 4361, ('_TYPE', 'Protest violently, riot', '_TYPE'): 472, ('_TYPE', 'Provide aid', '_TYPE'): 319, ('_TYPE', 'Provide economic aid', '_TYPE'): 113, ('_TYPE', 'Provide humanitarian aid', '_TYPE'): 426, ('_TYPE', 'Provide military aid', '_TYPE'): 356, ('_TYPE', 'Provide military protection or peacekeeping', '_TYPE'): 30, ('_TYPE', 'Rally opposition against', '_TYPE'): 102, ('_TYPE', 'Rally support on behalf of', '_TYPE'): 107, ('_TYPE', 'Receive deployment of peacekeepers', '_TYPE'): 35, ('_TYPE', 'Receive inspectors', '_TYPE'): 1, ('_TYPE', 'Reduce or break diplomatic relations', '_TYPE'): 429, ('_TYPE', 'Reduce or stop economic assistance', '_TYPE'): 9, ('_TYPE', 'Reduce or stop humanitarian assistance', '_TYPE'): 3, ('_TYPE', 'Reduce or stop material aid', '_TYPE'): 9, ('_TYPE', 'Reduce or stop military assistance', '_TYPE'): 29, ('_TYPE', 'Reduce relations', '_TYPE'): 321, ('_TYPE', 'Refuse to de-escalate military engagement', '_TYPE'): 15, ('_TYPE', 'Refuse to ease administrative sanctions', '_TYPE'): 4, ('_TYPE', 'Refuse to ease economic sanctions, boycott, or embargo', '_TYPE'): 10, ('_TYPE', 'Refuse to release persons or property', '_TYPE'): 33, ('_TYPE', 'Refuse to yield', '_TYPE'): 51, ('_TYPE', 'Reject', '_TYPE'): 1008, ('_TYPE', 'Reject economic cooperation', '_TYPE'): 2, ('_TYPE', 'Reject judicial cooperation', '_TYPE'): 15, ('_TYPE', 'Reject material cooperation', '_TYPE'): 1, ('_TYPE', 'Reject military cooperation', '_TYPE'): 0, ('_TYPE', 'Reject plan, agreement to settle dispute', '_TYPE'): 45, ('_TYPE', 'Reject proposal to meet, discuss, or negotiate', '_TYPE'): 132, ('_TYPE', 'Reject request for change in institutions, regime', '_TYPE'): 0, ('_TYPE', 'Reject request for change in leadership', '_TYPE'): 1, ('_TYPE', 'Reject request for military aid', '_TYPE'): 2, ('_TYPE', 'Retreat or surrender militarily', '_TYPE'): 77, ('_TYPE', 'Return, release person(s)', '_TYPE'): 347, ('_TYPE', 'Return, release property', '_TYPE'): 10, ('_TYPE', 'Seize or damage property', '_TYPE'): 21, ('_TYPE', 'Sexually assault', '_TYPE'): 90, ('_TYPE', 'Share intelligence or information', '_TYPE'): 90, ('_TYPE', 'Sign formal agreement', '_TYPE'): 1967, ('_TYPE', 'Threaten', '_TYPE'): 647, ('_TYPE', 'Threaten non-force', '_TYPE'): 3, ('_TYPE', 'Threaten to reduce or break relations', '_TYPE'): 13, ('_TYPE', 'Threaten to reduce or stop aid', '_TYPE'): 10, ('_TYPE', 'Threaten with administrative sanctions', '_TYPE'): 1, ('_TYPE', 'Threaten with military force', '_TYPE'): 120, ('_TYPE', 'Threaten with political dissent, protest', '_TYPE'): 3, ('_TYPE', 'Threaten with repression', '_TYPE'): 14, ('_TYPE', 'Threaten with restrictions on political freedoms', '_TYPE'): 3, ('_TYPE', 'Threaten with sanctions, boycott, embargo', '_TYPE'): 20, ('_TYPE', 'Torture', '_TYPE'): 28, ('_TYPE', 'Use as human shield', '_TYPE'): 1, ('_TYPE', 'Use conventional military force', '_TYPE'): 3595, ('_TYPE', 'Use tactics of violent repression', '_TYPE'): 368, ('_TYPE', 'Use unconventional violence', '_TYPE'): 1683, ('_TYPE', 'Veto', '_TYPE'): 0, ('_TYPE', 'Violate ceasefire', '_TYPE'): 4, ('_TYPE', 'Yield', '_TYPE'): 87, ('_TYPE', 'fight with artillery and tanks', '_TYPE'): 338, ('_TYPE', 'fight with small arms and light weapons', '_TYPE'): 1205},\n",
       "      metagraph=[('_TYPE', '_TYPE', 'Abduct, hijack, or take hostage'), ('_TYPE', '_TYPE', 'Accede to demands for change in institutions, regime'), ('_TYPE', '_TYPE', 'Accede to demands for change in leadership'), ('_TYPE', '_TYPE', 'Accede to demands for change in policy'), ('_TYPE', '_TYPE', 'Accede to demands for rights'), ('_TYPE', '_TYPE', 'Accede to requests or demands for political reform'), ('_TYPE', '_TYPE', 'Accuse'), ('_TYPE', '_TYPE', 'Accuse of aggression'), ('_TYPE', '_TYPE', 'Accuse of crime, corruption'), ('_TYPE', '_TYPE', 'Accuse of espionage, treason'), ('_TYPE', '_TYPE', 'Accuse of human rights abuses'), ('_TYPE', '_TYPE', 'Accuse of war crimes'), ('_TYPE', '_TYPE', 'Acknowledge or claim responsibility'), ('_TYPE', '_TYPE', 'Apologize'), ('_TYPE', '_TYPE', 'Appeal for aid'), ('_TYPE', '_TYPE', 'Appeal for change in institutions, regime'), ('_TYPE', '_TYPE', 'Appeal for change in leadership'), ('_TYPE', '_TYPE', 'Appeal for de-escalation of military engagement'), ('_TYPE', '_TYPE', 'Appeal for diplomatic cooperation (such as policy support)'), ('_TYPE', '_TYPE', 'Appeal for easing of administrative sanctions'), ('_TYPE', '_TYPE', 'Appeal for easing of economic sanctions, boycott, or embargo'), ('_TYPE', '_TYPE', 'Appeal for easing of political dissent'), ('_TYPE', '_TYPE', 'Appeal for economic aid'), ('_TYPE', '_TYPE', 'Appeal for economic cooperation'), ('_TYPE', '_TYPE', 'Appeal for humanitarian aid'), ('_TYPE', '_TYPE', 'Appeal for intelligence'), ('_TYPE', '_TYPE', 'Appeal for judicial cooperation'), ('_TYPE', '_TYPE', 'Appeal for material cooperation'), ('_TYPE', '_TYPE', 'Appeal for military aid'), ('_TYPE', '_TYPE', 'Appeal for military protection or peacekeeping'), ('_TYPE', '_TYPE', 'Appeal for policy change'), ('_TYPE', '_TYPE', 'Appeal for political reform'), ('_TYPE', '_TYPE', 'Appeal for release of persons or property'), ('_TYPE', '_TYPE', 'Appeal for rights'), ('_TYPE', '_TYPE', 'Appeal for target to allow international involvement (non-mediation)'), ('_TYPE', '_TYPE', 'Appeal to engage in or accept mediation'), ('_TYPE', '_TYPE', 'Appeal to others to meet or negotiate'), ('_TYPE', '_TYPE', 'Appeal to others to settle dispute'), ('_TYPE', '_TYPE', 'Appeal to yield'), ('_TYPE', '_TYPE', 'Arrest, detain, or charge with legal action'), ('_TYPE', '_TYPE', 'Assassinate'), ('_TYPE', '_TYPE', 'Attempt to assassinate'), ('_TYPE', '_TYPE', 'Ban political parties or politicians'), ('_TYPE', '_TYPE', 'Bring lawsuit against'), ('_TYPE', '_TYPE', 'Carry out suicide bombing'), ('_TYPE', '_TYPE', 'Coerce'), ('_TYPE', '_TYPE', 'Complain officially'), ('_TYPE', '_TYPE', 'Conduct hunger strike'), ('_TYPE', '_TYPE', 'Conduct strike or boycott'), ('_TYPE', '_TYPE', 'Conduct suicide, car, or other non-military bombing'), ('_TYPE', '_TYPE', 'Confiscate property'), ('_TYPE', '_TYPE', 'Consider policy option'), ('_TYPE', '_TYPE', 'Consult'), ('_TYPE', '_TYPE', 'Cooperate economically'), ('_TYPE', '_TYPE', 'Cooperate militarily'), ('_TYPE', '_TYPE', 'Criticize or denounce'), ('_TYPE', '_TYPE', 'Declare truce, ceasefire'), ('_TYPE', '_TYPE', 'Decline comment'), ('_TYPE', '_TYPE', 'Defend verbally'), ('_TYPE', '_TYPE', 'Defy norms, law'), ('_TYPE', '_TYPE', 'Demand'), ('_TYPE', '_TYPE', 'Demand change in institutions, regime'), ('_TYPE', '_TYPE', 'Demand change in leadership'), ('_TYPE', '_TYPE', 'Demand de-escalation of military engagement'), ('_TYPE', '_TYPE', 'Demand diplomatic cooperation (such as policy support)'), ('_TYPE', '_TYPE', 'Demand easing of administrative sanctions'), ('_TYPE', '_TYPE', 'Demand economic aid'), ('_TYPE', '_TYPE', 'Demand humanitarian aid'), ('_TYPE', '_TYPE', 'Demand intelligence cooperation'), ('_TYPE', '_TYPE', 'Demand judicial cooperation'), ('_TYPE', '_TYPE', 'Demand material cooperation'), ('_TYPE', '_TYPE', 'Demand mediation'), ('_TYPE', '_TYPE', 'Demand meeting, negotiation'), ('_TYPE', '_TYPE', 'Demand military aid'), ('_TYPE', '_TYPE', 'Demand policy change'), ('_TYPE', '_TYPE', 'Demand political reform'), ('_TYPE', '_TYPE', 'Demand release of persons or property'), ('_TYPE', '_TYPE', 'Demand rights'), ('_TYPE', '_TYPE', 'Demand settling of dispute'), ('_TYPE', '_TYPE', 'Demand that target yields'), ('_TYPE', '_TYPE', 'Demobilize armed forces'), ('_TYPE', '_TYPE', 'Demonstrate for leadership change'), ('_TYPE', '_TYPE', 'Demonstrate for policy change'), ('_TYPE', '_TYPE', 'Demonstrate military or police power'), ('_TYPE', '_TYPE', 'Demonstrate or rally'), ('_TYPE', '_TYPE', 'Deny responsibility'), ('_TYPE', '_TYPE', 'Destroy property'), ('_TYPE', '_TYPE', 'Detonate nuclear weapons'), ('_TYPE', '_TYPE', 'Discuss by telephone'), ('_TYPE', '_TYPE', 'Ease administrative sanctions'), ('_TYPE', '_TYPE', 'Ease economic sanctions, boycott, embargo'), ('_TYPE', '_TYPE', 'Ease military blockade'), ('_TYPE', '_TYPE', 'Employ aerial weapons'), ('_TYPE', '_TYPE', 'Engage in diplomatic cooperation'), ('_TYPE', '_TYPE', 'Engage in judicial cooperation'), ('_TYPE', '_TYPE', 'Engage in mass killings'), ('_TYPE', '_TYPE', 'Engage in material cooperation'), ('_TYPE', '_TYPE', 'Engage in negotiation'), ('_TYPE', '_TYPE', 'Engage in symbolic act'), ('_TYPE', '_TYPE', 'Engage in violent protest for leadership change'), ('_TYPE', '_TYPE', 'Expel or deport individuals'), ('_TYPE', '_TYPE', 'Expel or withdraw'), ('_TYPE', '_TYPE', 'Expel or withdraw peacekeepers'), ('_TYPE', '_TYPE', 'Express accord'), ('_TYPE', '_TYPE', 'Express intent to accept mediation'), ('_TYPE', '_TYPE', 'Express intent to change institutions, regime'), ('_TYPE', '_TYPE', 'Express intent to change leadership'), ('_TYPE', '_TYPE', 'Express intent to change policy'), ('_TYPE', '_TYPE', 'Express intent to cooperate'), ('_TYPE', '_TYPE', 'Express intent to cooperate economically'), ('_TYPE', '_TYPE', 'Express intent to cooperate militarily'), ('_TYPE', '_TYPE', 'Express intent to cooperate on judicial matters'), ('_TYPE', '_TYPE', 'Express intent to de-escalate military engagement'), ('_TYPE', '_TYPE', 'Express intent to ease administrative sanctions'), ('_TYPE', '_TYPE', 'Express intent to ease economic sanctions, boycott, or embargo'), ('_TYPE', '_TYPE', 'Express intent to engage in diplomatic cooperation (such as policy support)'), ('_TYPE', '_TYPE', 'Express intent to engage in material cooperation'), ('_TYPE', '_TYPE', 'Express intent to institute political reform'), ('_TYPE', '_TYPE', 'Express intent to mediate'), ('_TYPE', '_TYPE', 'Express intent to meet or negotiate'), ('_TYPE', '_TYPE', 'Express intent to provide economic aid'), ('_TYPE', '_TYPE', 'Express intent to provide humanitarian aid'), ('_TYPE', '_TYPE', 'Express intent to provide material aid'), ('_TYPE', '_TYPE', 'Express intent to provide military aid'), ('_TYPE', '_TYPE', 'Express intent to provide military protection or peacekeeping'), ('_TYPE', '_TYPE', 'Express intent to release persons or property'), ('_TYPE', '_TYPE', 'Express intent to settle dispute'), ('_TYPE', '_TYPE', 'Express intent to yield'), ('_TYPE', '_TYPE', 'Forgive'), ('_TYPE', '_TYPE', 'Give ultimatum'), ('_TYPE', '_TYPE', 'Grant asylum'), ('_TYPE', '_TYPE', 'Grant diplomatic recognition'), ('_TYPE', '_TYPE', 'Halt negotiations'), ('_TYPE', '_TYPE', 'Host a visit'), ('_TYPE', '_TYPE', 'Impose administrative sanctions'), ('_TYPE', '_TYPE', 'Impose blockade, restrict movement'), ('_TYPE', '_TYPE', 'Impose curfew'), ('_TYPE', '_TYPE', 'Impose embargo, boycott, or sanctions'), ('_TYPE', '_TYPE', 'Impose restrictions on political freedoms'), ('_TYPE', '_TYPE', 'Impose state of emergency or martial law'), ('_TYPE', '_TYPE', 'Increase military alert status'), ('_TYPE', '_TYPE', 'Increase police alert status'), ('_TYPE', '_TYPE', 'Investigate'), ('_TYPE', '_TYPE', 'Investigate crime, corruption'), ('_TYPE', '_TYPE', 'Investigate human rights abuses'), ('_TYPE', '_TYPE', 'Investigate war crimes'), ('_TYPE', '_TYPE', 'Kill by physical assault'), ('_TYPE', '_TYPE', 'Make a visit'), ('_TYPE', '_TYPE', 'Make an appeal or request'), ('_TYPE', '_TYPE', 'Make empathetic comment'), ('_TYPE', '_TYPE', 'Make optimistic comment'), ('_TYPE', '_TYPE', 'Make pessimistic comment'), ('_TYPE', '_TYPE', 'Make statement'), ('_TYPE', '_TYPE', 'Mediate'), ('_TYPE', '_TYPE', \"Meet at a 'third' location\"), ('_TYPE', '_TYPE', 'Mobilize or increase armed forces'), ('_TYPE', '_TYPE', 'Mobilize or increase police power'), ('_TYPE', '_TYPE', 'Obstruct passage to demand leadership change'), ('_TYPE', '_TYPE', 'Obstruct passage, block'), ('_TYPE', '_TYPE', 'Occupy territory'), ('_TYPE', '_TYPE', 'Physically assault'), ('_TYPE', '_TYPE', 'Praise or endorse'), ('_TYPE', '_TYPE', 'Protest violently, riot'), ('_TYPE', '_TYPE', 'Provide aid'), ('_TYPE', '_TYPE', 'Provide economic aid'), ('_TYPE', '_TYPE', 'Provide humanitarian aid'), ('_TYPE', '_TYPE', 'Provide military aid'), ('_TYPE', '_TYPE', 'Provide military protection or peacekeeping'), ('_TYPE', '_TYPE', 'Rally opposition against'), ('_TYPE', '_TYPE', 'Rally support on behalf of'), ('_TYPE', '_TYPE', 'Receive deployment of peacekeepers'), ('_TYPE', '_TYPE', 'Receive inspectors'), ('_TYPE', '_TYPE', 'Reduce or break diplomatic relations'), ('_TYPE', '_TYPE', 'Reduce or stop economic assistance'), ('_TYPE', '_TYPE', 'Reduce or stop humanitarian assistance'), ('_TYPE', '_TYPE', 'Reduce or stop material aid'), ('_TYPE', '_TYPE', 'Reduce or stop military assistance'), ('_TYPE', '_TYPE', 'Reduce relations'), ('_TYPE', '_TYPE', 'Refuse to de-escalate military engagement'), ('_TYPE', '_TYPE', 'Refuse to ease administrative sanctions'), ('_TYPE', '_TYPE', 'Refuse to ease economic sanctions, boycott, or embargo'), ('_TYPE', '_TYPE', 'Refuse to release persons or property'), ('_TYPE', '_TYPE', 'Refuse to yield'), ('_TYPE', '_TYPE', 'Reject'), ('_TYPE', '_TYPE', 'Reject economic cooperation'), ('_TYPE', '_TYPE', 'Reject judicial cooperation'), ('_TYPE', '_TYPE', 'Reject material cooperation'), ('_TYPE', '_TYPE', 'Reject military cooperation'), ('_TYPE', '_TYPE', 'Reject plan, agreement to settle dispute'), ('_TYPE', '_TYPE', 'Reject proposal to meet, discuss, or negotiate'), ('_TYPE', '_TYPE', 'Reject request for change in institutions, regime'), ('_TYPE', '_TYPE', 'Reject request for change in leadership'), ('_TYPE', '_TYPE', 'Reject request for military aid'), ('_TYPE', '_TYPE', 'Retreat or surrender militarily'), ('_TYPE', '_TYPE', 'Return, release person(s)'), ('_TYPE', '_TYPE', 'Return, release property'), ('_TYPE', '_TYPE', 'Seize or damage property'), ('_TYPE', '_TYPE', 'Sexually assault'), ('_TYPE', '_TYPE', 'Share intelligence or information'), ('_TYPE', '_TYPE', 'Sign formal agreement'), ('_TYPE', '_TYPE', 'Threaten'), ('_TYPE', '_TYPE', 'Threaten non-force'), ('_TYPE', '_TYPE', 'Threaten to reduce or break relations'), ('_TYPE', '_TYPE', 'Threaten to reduce or stop aid'), ('_TYPE', '_TYPE', 'Threaten with administrative sanctions'), ('_TYPE', '_TYPE', 'Threaten with military force'), ('_TYPE', '_TYPE', 'Threaten with political dissent, protest'), ('_TYPE', '_TYPE', 'Threaten with repression'), ('_TYPE', '_TYPE', 'Threaten with restrictions on political freedoms'), ('_TYPE', '_TYPE', 'Threaten with sanctions, boycott, embargo'), ('_TYPE', '_TYPE', 'Torture'), ('_TYPE', '_TYPE', 'Use as human shield'), ('_TYPE', '_TYPE', 'Use conventional military force'), ('_TYPE', '_TYPE', 'Use tactics of violent repression'), ('_TYPE', '_TYPE', 'Use unconventional violence'), ('_TYPE', '_TYPE', 'Veto'), ('_TYPE', '_TYPE', 'Violate ceasefire'), ('_TYPE', '_TYPE', 'Yield'), ('_TYPE', '_TYPE', 'fight with artillery and tanks'), ('_TYPE', '_TYPE', 'fight with small arms and light weapons')])"
      ]
     },
     "execution_count": 110,
     "metadata": {},
     "output_type": "execute_result"
    }
   ],
   "source": [
    "dgl.edge_subgraph(G, G.edata['test_mask'])"
   ]
  },
  {
   "cell_type": "code",
   "execution_count": 69,
   "metadata": {},
   "outputs": [
    {
     "data": {
      "text/plain": [
       "torch.Size([11814, 250])"
      ]
     },
     "execution_count": 69,
     "metadata": {},
     "output_type": "execute_result"
    }
   ],
   "source": [
    "G.ndata['feat'].shape"
   ]
  },
  {
   "cell_type": "code",
   "execution_count": 81,
   "metadata": {},
   "outputs": [
    {
     "data": {
      "text/plain": [
       "(tensor([7992]), tensor([10208]))"
      ]
     },
     "execution_count": 81,
     "metadata": {},
     "output_type": "execute_result"
    }
   ],
   "source": [
    "G.find_edges(0, 'Reject')"
   ]
  },
  {
   "cell_type": "code",
   "execution_count": 111,
   "metadata": {},
   "outputs": [],
   "source": [
    "dgl.save_graphs('dgl_icews_graph.bin', [G])"
   ]
  },
  {
   "cell_type": "code",
   "execution_count": null,
   "metadata": {},
   "outputs": [],
   "source": []
  }
 ],
 "metadata": {
  "kernelspec": {
   "display_name": "dgl-kg-env",
   "language": "python",
   "name": "python3"
  },
  "language_info": {
   "codemirror_mode": {
    "name": "ipython",
    "version": 3
   },
   "file_extension": ".py",
   "mimetype": "text/x-python",
   "name": "python",
   "nbconvert_exporter": "python",
   "pygments_lexer": "ipython3",
   "version": "3.11.5"
  }
 },
 "nbformat": 4,
 "nbformat_minor": 2
}
